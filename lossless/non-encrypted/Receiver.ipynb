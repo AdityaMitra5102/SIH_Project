{
 "cells": [
  {
   "cell_type": "markdown",
   "id": "c85b723e",
   "metadata": {},
   "source": [
    "Installing dependencies"
   ]
  },
  {
   "cell_type": "code",
   "execution_count": null,
   "id": "59c024c2",
   "metadata": {},
   "outputs": [],
   "source": [
    "#This wont run from jupyter. So run this on terminal\n",
    "#sudo apt-get install python3 python3-dev python3-numpy python3-pip portaudio19-dev git"
   ]
  },
  {
   "cell_type": "code",
   "execution_count": null,
   "id": "2f51bc8d",
   "metadata": {},
   "outputs": [],
   "source": [
    "!pip3 install amodem uuid"
   ]
  },
  {
   "cell_type": "markdown",
   "id": "e81ed026",
   "metadata": {},
   "source": [
    "Importing necessary libraries"
   ]
  },
  {
   "cell_type": "code",
   "execution_count": null,
   "id": "99e01af9",
   "metadata": {},
   "outputs": [],
   "source": [
    "import os\n",
    "import uuid\n",
    "import ipywidgets\n",
    "from IPython.display import display, FileLink\n",
    "import base64"
   ]
  },
  {
   "cell_type": "markdown",
   "id": "81e5130a",
   "metadata": {},
   "source": [
    "Setting bitrate for 2kbps"
   ]
  },
  {
   "cell_type": "code",
   "execution_count": null,
   "id": "480884e5",
   "metadata": {},
   "outputs": [],
   "source": [
    "def setBitrate():\n",
    "    os.environ['BITRATE']='16'"
   ]
  },
  {
   "cell_type": "code",
   "execution_count": null,
   "id": "b9a9187c",
   "metadata": {},
   "outputs": [],
   "source": [
    "setBitrate()"
   ]
  },
  {
   "cell_type": "markdown",
   "id": "b13fb170",
   "metadata": {},
   "source": [
    " Calibration - Check audio input device"
   ]
  },
  {
   "cell_type": "code",
   "execution_count": null,
   "id": "76c776f8",
   "metadata": {},
   "outputs": [],
   "source": [
    "!amodem recv --calibrate"
   ]
  },
  {
   "cell_type": "markdown",
   "id": "3af42ac0",
   "metadata": {},
   "source": [
    "Interrupt the kernel when calibration is done"
   ]
  },
  {
   "cell_type": "markdown",
   "id": "3ae4e399",
   "metadata": {},
   "source": [
    "Temporary filename"
   ]
  },
  {
   "cell_type": "code",
   "execution_count": null,
   "id": "848e01e5",
   "metadata": {},
   "outputs": [],
   "source": [
    "tempname=str(uuid.uuid4())\n",
    "os.environ['tempname']=tempname"
   ]
  },
  {
   "cell_type": "markdown",
   "id": "c5da9574",
   "metadata": {},
   "source": [
    "Receiving. Make sure this is running before sender attempts to send"
   ]
  },
  {
   "cell_type": "code",
   "execution_count": null,
   "id": "a90f9709",
   "metadata": {},
   "outputs": [],
   "source": [
    "!amodem recv -vv -o $tempname"
   ]
  },
  {
   "cell_type": "markdown",
   "id": "f9e75bdc",
   "metadata": {},
   "source": [
    "Match checksum with sender"
   ]
  },
  {
   "cell_type": "code",
   "execution_count": null,
   "id": "ecb4239e",
   "metadata": {},
   "outputs": [],
   "source": [
    "!sha512sum $tempname"
   ]
  },
  {
   "cell_type": "markdown",
   "id": "1e29a2e4",
   "metadata": {},
   "source": [
    "Read the received file and decrypt"
   ]
  },
  {
   "cell_type": "code",
   "execution_count": null,
   "id": "f01256ad",
   "metadata": {},
   "outputs": [],
   "source": [
    "fkey = Fernet(cryptokey.encode())\n",
    "with open(tempname,'rb') as f:\n",
    "    tempdata=f.read()\n",
    "\n",
    "data=tempdata"
   ]
  },
  {
   "cell_type": "markdown",
   "id": "5590f73d",
   "metadata": {},
   "source": [
    "Extract metadata"
   ]
  },
  {
   "cell_type": "code",
   "execution_count": null,
   "id": "2835e5e7",
   "metadata": {},
   "outputs": [],
   "source": [
    "flnlen=data[0]\n",
    "fln=data[1:(flnlen+1)].decode()\n",
    "file_content=data[(flnlen+1):]"
   ]
  },
  {
   "cell_type": "code",
   "execution_count": null,
   "id": "49863788",
   "metadata": {},
   "outputs": [],
   "source": [
    "flnlen"
   ]
  },
  {
   "cell_type": "code",
   "execution_count": null,
   "id": "965ec424",
   "metadata": {},
   "outputs": [],
   "source": [
    "fln"
   ]
  },
  {
   "cell_type": "markdown",
   "id": "15327939",
   "metadata": {},
   "source": [
    "Write to file"
   ]
  },
  {
   "cell_type": "code",
   "execution_count": null,
   "id": "0dfeb09d",
   "metadata": {},
   "outputs": [],
   "source": [
    "file=open(fln,'wb')\n",
    "file.write(file_content)\n",
    "file.close()"
   ]
  },
  {
   "cell_type": "markdown",
   "id": "368d8345",
   "metadata": {},
   "source": [
    "Handle download"
   ]
  },
  {
   "cell_type": "code",
   "execution_count": null,
   "id": "4fafc45c",
   "metadata": {},
   "outputs": [],
   "source": [
    "local_file = FileLink(fln, result_html_prefix=\"Click here to download: \")\n",
    "display(local_file)"
   ]
  },
  {
   "cell_type": "markdown",
   "id": "54097c69",
   "metadata": {},
   "source": [
    "Cleanup"
   ]
  },
  {
   "cell_type": "code",
   "execution_count": null,
   "id": "6cb3b3d6",
   "metadata": {},
   "outputs": [],
   "source": [
    "os.remove(fln)\n",
    "os.remove(tempname)"
   ]
  }
 ],
 "metadata": {
  "kernelspec": {
   "display_name": "Python 3",
   "language": "python",
   "name": "python3"
  },
  "language_info": {
   "codemirror_mode": {
    "name": "ipython",
    "version": 3
   },
   "file_extension": ".py",
   "mimetype": "text/x-python",
   "name": "python",
   "nbconvert_exporter": "python",
   "pygments_lexer": "ipython3",
   "version": "3.6.9"
  }
 },
 "nbformat": 4,
 "nbformat_minor": 5
}
