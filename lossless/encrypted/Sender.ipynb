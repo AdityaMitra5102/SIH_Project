{
 "cells": [
  {
   "cell_type": "code",
   "execution_count": 1,
   "id": "4539cf71",
   "metadata": {},
   "outputs": [],
   "source": [
    "#Sensitive Encryption key\n",
    "cryptokey='AIxyLjsFocf-NEuEXRS_VUJ1XEEkf4nE9QQ2cWnhlro='"
   ]
  },
  {
   "cell_type": "markdown",
   "id": "c85b723e",
   "metadata": {},
   "source": [
    "Installing dependencies"
   ]
  },
  {
   "cell_type": "code",
   "execution_count": null,
   "id": "2f51bc8d",
   "metadata": {},
   "outputs": [],
   "source": [
    "!pip3 install amodem uuid cryptography"
   ]
  },
  {
   "cell_type": "markdown",
   "id": "e81ed026",
   "metadata": {},
   "source": [
    "Importing necessary libraries"
   ]
  },
  {
   "cell_type": "code",
   "execution_count": 2,
   "id": "99e01af9",
   "metadata": {},
   "outputs": [],
   "source": [
    "import os\n",
    "import uuid\n",
    "from ipywidgets import FileUpload\n",
    "import base64\n",
    "from cryptography.fernet import Fernet"
   ]
  },
  {
   "cell_type": "markdown",
   "id": "81e5130a",
   "metadata": {},
   "source": [
    "Setting bitrate for 2kbps"
   ]
  },
  {
   "cell_type": "code",
   "execution_count": 3,
   "id": "480884e5",
   "metadata": {},
   "outputs": [],
   "source": [
    "def setBitrate():\n",
    "    os.environ['BITRATE']='16'"
   ]
  },
  {
   "cell_type": "code",
   "execution_count": 4,
   "id": "b9a9187c",
   "metadata": {},
   "outputs": [],
   "source": [
    "setBitrate()"
   ]
  },
  {
   "cell_type": "markdown",
   "id": "b13fb170",
   "metadata": {},
   "source": [
    " Calibration"
   ]
  },
  {
   "cell_type": "markdown",
   "id": "3a208414",
   "metadata": {},
   "source": [
    "Check audio output device"
   ]
  },
  {
   "cell_type": "code",
   "execution_count": null,
   "id": "76c776f8",
   "metadata": {},
   "outputs": [],
   "source": [
    "!amodem send --calibrate"
   ]
  },
  {
   "cell_type": "markdown",
   "id": "3af42ac0",
   "metadata": {},
   "source": [
    "Interrupt the kernel when calibration is done"
   ]
  },
  {
   "cell_type": "code",
   "execution_count": 5,
   "id": "38ffb27e",
   "metadata": {},
   "outputs": [],
   "source": [
    "#Variable for filename\n",
    "global fln\n",
    "fln=''"
   ]
  },
  {
   "cell_type": "markdown",
   "id": "1b32f581",
   "metadata": {},
   "source": [
    "Handle upload"
   ]
  },
  {
   "cell_type": "code",
   "execution_count": 6,
   "id": "ebb21bbb",
   "metadata": {
    "scrolled": true
   },
   "outputs": [
    {
     "data": {
      "application/vnd.jupyter.widget-view+json": {
       "model_id": "26851cfc00e24a9180ef652ad206b0f4",
       "version_major": 2,
       "version_minor": 0
      },
      "text/plain": [
       "FileUpload(value={}, description='Upload')"
      ]
     },
     "metadata": {},
     "output_type": "display_data"
    }
   ],
   "source": [
    "def on_upload_change(change):\n",
    "    global fln\n",
    "    if not change.new:\n",
    "        return\n",
    "    up = change.owner\n",
    "    for filename,data in up.value.items():\n",
    "        with open(filename, 'wb') as f:\n",
    "            fln=filename\n",
    "            f.write(data['content'])\n",
    "    up.value.clear()\n",
    "    up._counter = 0\n",
    "\n",
    "upload_btn = FileUpload()\n",
    "upload_btn.observe(on_upload_change, names='_counter')\n",
    "upload_btn\n"
   ]
  },
  {
   "cell_type": "code",
   "execution_count": 7,
   "id": "7d297a4e",
   "metadata": {},
   "outputs": [
    {
     "name": "stdout",
     "output_type": "stream",
     "text": [
      "Filename: demo.mp4\n"
     ]
    }
   ],
   "source": [
    "print(\"Filename: \"+fln)"
   ]
  },
  {
   "cell_type": "code",
   "execution_count": 8,
   "id": "60259d7a",
   "metadata": {},
   "outputs": [],
   "source": [
    "file = open(fln, 'rb')\n",
    "file_content = file.read()\n",
    "file.close()"
   ]
  },
  {
   "cell_type": "markdown",
   "id": "3ef245fb",
   "metadata": {},
   "source": [
    "Generate metadata: Filename and its length"
   ]
  },
  {
   "cell_type": "code",
   "execution_count": 9,
   "id": "b4c9de56",
   "metadata": {},
   "outputs": [],
   "source": [
    "flnlen=len(fln).to_bytes(1,byteorder='big')\n",
    "metadata=flnlen+fln.encode()\n",
    "data=metadata+file_content"
   ]
  },
  {
   "cell_type": "code",
   "execution_count": null,
   "id": "d53822e5",
   "metadata": {},
   "outputs": [],
   "source": [
    "data"
   ]
  },
  {
   "cell_type": "markdown",
   "id": "d62ed157",
   "metadata": {},
   "source": [
    "Encrypt"
   ]
  },
  {
   "cell_type": "code",
   "execution_count": 10,
   "id": "d748281d",
   "metadata": {},
   "outputs": [],
   "source": [
    "fkey = Fernet(cryptokey.encode())\n",
    "encdata=fkey.encrypt(data)\n",
    "tempdata=encdata"
   ]
  },
  {
   "cell_type": "code",
   "execution_count": null,
   "id": "406f2594",
   "metadata": {},
   "outputs": [],
   "source": [
    "encdata"
   ]
  },
  {
   "cell_type": "markdown",
   "id": "a6cc8ef3",
   "metadata": {},
   "source": [
    "Combine metadata and data and write to a temporary file"
   ]
  },
  {
   "cell_type": "code",
   "execution_count": 11,
   "id": "185902bc",
   "metadata": {},
   "outputs": [],
   "source": [
    "tempname=str(uuid.uuid4())\n",
    "with open(tempname, 'wb') as f:\n",
    "    f.write(tempdata)\n",
    "os.environ['tempname']=tempname"
   ]
  },
  {
   "cell_type": "code",
   "execution_count": null,
   "id": "e54a6e6b",
   "metadata": {},
   "outputs": [],
   "source": [
    "tempname"
   ]
  },
  {
   "cell_type": "code",
   "execution_count": 12,
   "id": "0f08bee3",
   "metadata": {},
   "outputs": [
    {
     "name": "stdout",
     "output_type": "stream",
     "text": [
      "Attempting to send 1680228 bytes\n",
      "Make sure receiver is listening\n"
     ]
    }
   ],
   "source": [
    "tempsize = os.path.getsize(tempname)\n",
    "print(f\"Attempting to send {tempsize} bytes\")\n",
    "print(\"Make sure receiver is listening\")"
   ]
  },
  {
   "cell_type": "markdown",
   "id": "0f01096e",
   "metadata": {},
   "source": [
    "Sending"
   ]
  },
  {
   "cell_type": "code",
   "execution_count": null,
   "id": "cbb75a3a",
   "metadata": {},
   "outputs": [],
   "source": [
    "!echo $BITRATE"
   ]
  },
  {
   "cell_type": "code",
   "execution_count": null,
   "id": "0a1436e6",
   "metadata": {},
   "outputs": [],
   "source": [
    "!amodem send -vv -i $tempname"
   ]
  },
  {
   "cell_type": "markdown",
   "id": "26040d87",
   "metadata": {},
   "source": [
    "Cleanup: Delete temporary file and uploaded file"
   ]
  },
  {
   "cell_type": "code",
   "execution_count": 13,
   "id": "217c4a2f",
   "metadata": {},
   "outputs": [],
   "source": [
    "os.remove(fln)\n",
    "os.remove(tempname)"
   ]
  }
 ],
 "metadata": {
  "kernelspec": {
   "display_name": "Python 3",
   "language": "python",
   "name": "python3"
  },
  "language_info": {
   "codemirror_mode": {
    "name": "ipython",
    "version": 3
   },
   "file_extension": ".py",
   "mimetype": "text/x-python",
   "name": "python",
   "nbconvert_exporter": "python",
   "pygments_lexer": "ipython3",
   "version": "3.6.9"
  }
 },
 "nbformat": 4,
 "nbformat_minor": 5
}
