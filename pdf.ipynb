{
 "cells": [
  {
   "cell_type": "code",
   "execution_count": 1,
   "metadata": {},
   "outputs": [],
   "source": [
    "import os\n",
    "from PIL import Image\n",
    "import soundfile as sf\n",
    "from pydub import AudioSegment\n",
    "import numpy as np\n",
    "import cv2\n",
    "import ffmpeg\n",
    "import uuid\n",
    "import base64\n",
    "from ipywidgets import FileUpload\n",
    "from cryptography.fernet import Fernet\n",
    "from cryptography.hazmat.primitives import hashes\n",
    "from cryptography.hazmat.primitives.kdf.pbkdf2 import PBKDF2HMAC"
   ]
  },
  {
   "cell_type": "code",
   "execution_count": 34,
   "metadata": {},
   "outputs": [],
   "source": [
    "import glob, sys, fitz\n",
    "import img2pdf\n",
    "from PIL import Image\n",
    "import os\n",
    "from PyPDF2 import PdfMerger"
   ]
  },
  {
   "cell_type": "code",
   "execution_count": 2,
   "metadata": {},
   "outputs": [],
   "source": [
    "def compressPNG(origfile, newfile):\n",
    "    img=Image.open(origfile)\n",
    "    img=img.convert(\"P\", palette=Image.ADAPTIVE, colors=256)\n",
    "    img.save(newfile, optimize=True)"
   ]
  },
  {
   "cell_type": "code",
   "execution_count": 10,
   "metadata": {},
   "outputs": [],
   "source": [
    "input_path = \"/home/anorak/Desktop/MIND-PALACE/pdf/OcularAI.pdf\"\n",
    "store_the_split = \"/home/anorak/Desktop/MIND-PALACE/pdf/pdf_split/\""
   ]
  },
  {
   "cell_type": "code",
   "execution_count": 24,
   "metadata": {},
   "outputs": [],
   "source": [
    "from PyPDF2 import PdfFileWriter, PdfFileReader\n",
    "import natsort\n",
    "inputpdf = PdfFileReader(open(input_path, \"rb\"))\n",
    "for i in range(inputpdf.numPages):\n",
    "    output = PdfFileWriter()\n",
    "    output.addPage(inputpdf.getPage(i))\n",
    "    with open(\"/home/anorak/Desktop/MIND-PALACE/pdf/pdf_split/document-page%s.pdf\" % i, \"wb\") as outputStream:\n",
    "        output.write(outputStream)"
   ]
  },
  {
   "cell_type": "code",
   "execution_count": 27,
   "metadata": {},
   "outputs": [],
   "source": [
    "pdf_2_img = \"/home/anorak/Desktop/MIND-PALACE/pdf/pdf_2_img/\""
   ]
  },
  {
   "cell_type": "code",
   "execution_count": 26,
   "metadata": {},
   "outputs": [],
   "source": [
    "zoom_x = 2.0 \n",
    "zoom_y = 2.0  \n",
    "mat = fitz.Matrix(zoom_x, zoom_y) \n",
    "all_files = natsort.natsorted(glob.glob(store_the_split + \"*.pdf\"), reverse=False)\n",
    "count = 0\n",
    "for filename in all_files:\n",
    "    doc = fitz.open(filename) \n",
    "    count = count + 1\n",
    "    for page in doc: \n",
    "        pix = page.get_pixmap(matrix=mat)  \n",
    "        pix.save(\"/home/anorak/Desktop/MIND-PALACE/pdf/pdf_2_img/page_2_img\"+str(count)+\".png\" )"
   ]
  },
  {
   "cell_type": "code",
   "execution_count": 29,
   "metadata": {},
   "outputs": [],
   "source": [
    "image_glob = natsort.natsorted(glob.glob(pdf_2_img + \"*.png\"), reverse=False)\n"
   ]
  },
  {
   "cell_type": "code",
   "execution_count": 30,
   "metadata": {},
   "outputs": [],
   "source": [
    "img_comp = \"/home/anorak/Desktop/MIND-PALACE/pdf/image_comp/\""
   ]
  },
  {
   "cell_type": "code",
   "execution_count": 32,
   "metadata": {},
   "outputs": [
    {
     "name": "stderr",
     "output_type": "stream",
     "text": [
      "/tmp/ipykernel_39152/3065701223.py:3: DeprecationWarning: ADAPTIVE is deprecated and will be removed in Pillow 10 (2023-07-01). Use Palette.ADAPTIVE instead.\n",
      "  img=img.convert(\"P\", palette=Image.ADAPTIVE, colors=256)\n"
     ]
    }
   ],
   "source": [
    "count = 0\n",
    "for filename in image_glob:\n",
    "    count = count+1\n",
    "    compressed_img = compressPNG(filename, img_comp + str(count) + \".png\")\n"
   ]
  },
  {
   "cell_type": "code",
   "execution_count": 35,
   "metadata": {},
   "outputs": [],
   "source": [
    "path_topdf = '/home/anorak/Desktop/MIND-PALACE/pdf/image_comp/'\n",
    "pdf_glob = natsort.natsorted(glob.glob(path_topdf + \"*.png\"))\n"
   ]
  },
  {
   "cell_type": "code",
   "execution_count": 39,
   "metadata": {},
   "outputs": [],
   "source": [
    "counter = 0\n",
    "for filename in pdf_glob:\n",
    "    counter = counter + 1\n",
    "    image = Image.open(filename)\n",
    "    pdf_bytes = img2pdf.convert(image.filename)\n",
    "    file = open('/home/anorak/Desktop/MIND-PALACE/pdf/img_comp_pdf/' + str(counter) + '.pdf', \"wb\")\n",
    "    file.write(pdf_bytes)\n",
    "    image.close()\n",
    "    file.close()"
   ]
  },
  {
   "cell_type": "code",
   "execution_count": 45,
   "metadata": {},
   "outputs": [],
   "source": [
    "merge_pdf = \"/home/anorak/Desktop/MIND-PALACE/pdf/img_comp_pdf/\"\n",
    "comp_pdf = natsort.natsorted(glob.glob(merge_pdf+\"*.pdf\"))"
   ]
  },
  {
   "cell_type": "code",
   "execution_count": 48,
   "metadata": {},
   "outputs": [],
   "source": [
    "merger = PdfMerger()\n",
    "\n",
    "for filename in comp_pdf:\n",
    "    merger.append(filename)\n",
    "merger.write(\"result.pdf\")\n",
    "merger.close()"
   ]
  },
  {
   "cell_type": "code",
   "execution_count": null,
   "metadata": {},
   "outputs": [],
   "source": []
  }
 ],
 "metadata": {
  "kernelspec": {
   "display_name": "Python 3.10.4 64-bit",
   "language": "python",
   "name": "python3"
  },
  "language_info": {
   "codemirror_mode": {
    "name": "ipython",
    "version": 3
   },
   "file_extension": ".py",
   "mimetype": "text/x-python",
   "name": "python",
   "nbconvert_exporter": "python",
   "pygments_lexer": "ipython3",
   "version": "3.10.4"
  },
  "orig_nbformat": 4,
  "vscode": {
   "interpreter": {
    "hash": "916dbcbb3f70747c44a77c7bcd40155683ae19c65e1c03b4aa3499c5328201f1"
   }
  }
 },
 "nbformat": 4,
 "nbformat_minor": 2
}
