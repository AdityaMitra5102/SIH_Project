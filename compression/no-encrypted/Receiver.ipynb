{
 "cells": [
  {
   "cell_type": "markdown",
   "id": "c85b723e",
   "metadata": {},
   "source": [
    "Installing dependencies"
   ]
  },
  {
   "cell_type": "code",
   "execution_count": 1,
   "id": "2f51bc8d",
   "metadata": {},
   "outputs": [
    {
     "name": "stdout",
     "output_type": "stream",
     "text": [
      "/usr/lib/python3/dist-packages/secretstorage/dhcrypto.py:15: CryptographyDeprecationWarning: int_from_bytes is deprecated, use int.from_bytes instead\n",
      "  from cryptography.utils import int_from_bytes\n",
      "/usr/lib/python3/dist-packages/secretstorage/util.py:19: CryptographyDeprecationWarning: int_from_bytes is deprecated, use int.from_bytes instead\n",
      "  from cryptography.utils import int_from_bytes\n",
      "Defaulting to user installation because normal site-packages is not writeable\n",
      "Requirement already satisfied: amodem in /home/cryptane/.local/lib/python3.6/site-packages (1.15.3)\n",
      "Requirement already satisfied: uuid in /home/cryptane/.local/lib/python3.6/site-packages (1.30)\n",
      "Requirement already satisfied: numpy in /home/cryptane/.local/lib/python3.6/site-packages (from amodem) (1.19.5)\n"
     ]
    }
   ],
   "source": [
    "!pip3 install amodem uuid"
   ]
  },
  {
   "cell_type": "markdown",
   "id": "e81ed026",
   "metadata": {},
   "source": [
    "Importing necessary libraries"
   ]
  },
  {
   "cell_type": "code",
   "execution_count": 2,
   "id": "99e01af9",
   "metadata": {},
   "outputs": [],
   "source": [
    "import os\n",
    "import uuid\n",
    "import ipywidgets\n",
    "from IPython.display import display, FileLink\n",
    "import base64"
   ]
  },
  {
   "cell_type": "markdown",
   "id": "81e5130a",
   "metadata": {},
   "source": [
    "Setting bitrate for 2kbps"
   ]
  },
  {
   "cell_type": "code",
   "execution_count": 3,
   "id": "480884e5",
   "metadata": {},
   "outputs": [],
   "source": [
    "def setBitrate():\n",
    "    os.environ['BITRATE']='16'"
   ]
  },
  {
   "cell_type": "code",
   "execution_count": 4,
   "id": "b9a9187c",
   "metadata": {},
   "outputs": [],
   "source": [
    "setBitrate()"
   ]
  },
  {
   "cell_type": "markdown",
   "id": "b13fb170",
   "metadata": {},
   "source": [
    " Calibration - Check audio input device"
   ]
  },
  {
   "cell_type": "code",
   "execution_count": 5,
   "id": "76c776f8",
   "metadata": {},
   "outputs": [
    {
     "name": "stdout",
     "output_type": "stream",
     "text": [
      "Audio OFDM MODEM v1.15.3: 16.0 kb/s (16-QAM x 4 carriers) Fs=16.0 kHz\n",
      "b'PortAudio V19.6.0-devel, revision 396fe4b6699ae929d3a685b3ef8a7e97396139a4' loaded\n",
      "ALSA lib pcm_dsnoop.c:618:(snd_pcm_dsnoop_open) unable to open slave\n",
      "ALSA lib pcm_dmix.c:1052:(snd_pcm_dmix_open) unable to open slave\n",
      "ALSA lib pcm.c:2495:(snd_pcm_open_noupdate) Unknown PCM cards.pcm.rear\n",
      "ALSA lib pcm.c:2495:(snd_pcm_open_noupdate) Unknown PCM cards.pcm.center_lfe\n",
      "ALSA lib pcm.c:2495:(snd_pcm_open_noupdate) Unknown PCM cards.pcm.side\n",
      "ALSA lib pcm_dmix.c:1052:(snd_pcm_dmix_open) unable to open slave\n",
      "verbose: 0\n",
      "  3000 Hz: good signal         \n",
      "  4000 Hz: frequency change    \n",
      "  4000 Hz: good signal         \n",
      "  4000 Hz: good signal         \n",
      "  4000 Hz: good signal         \n",
      "  4000 Hz: good signal         \n",
      "  5000 Hz: frequency change    \n",
      "  5000 Hz: good signal         \n",
      "  5000 Hz: good signal         \n",
      "  5000 Hz: good signal         \n",
      "  5000 Hz: good signal         \n",
      "  2000 Hz: frequency change    \n",
      "  2000 Hz: good signal         \n",
      "  2000 Hz: good signal         \n",
      "  2000 Hz: good signal         \n",
      "  2000 Hz: good signal         \n",
      "  3000 Hz: frequency change    \n",
      "  3000 Hz: good signal         \n",
      "  3000 Hz: good signal         \n",
      "  3000 Hz: good signal         \n",
      "  3000 Hz: good signal         \n",
      "^C\n",
      "Traceback (most recent call last):\n",
      "  File \"/home/cryptane/.local/bin/amodem\", line 8, in <module>\n",
      "    sys.exit(_main())\n",
      "  File \"/home/cryptane/.local/lib/python3.6/site-packages/amodem/__main__.py\", line 257, in _main\n",
      "    args.calib(config=config, args=args)\n",
      "  File \"/home/cryptane/.local/lib/python3.6/site-packages/amodem/__main__.py\", line 159, in <lambda>\n",
      "    volume_cmd=get_volume_cmd(args)\n",
      "  File \"/home/cryptane/.local/lib/python3.6/site-packages/amodem/calib.py\", line 140, in recv\n",
      "    for state in recv_iter(config, src, volume_cmd, dump_audio):\n",
      "  File \"/home/cryptane/.local/lib/python3.6/site-packages/amodem/calib.py\", line 124, in recv_iter\n",
      "    for _prev, curr, _next in iter_window(result_iterator, size=3):\n",
      "  File \"/home/cryptane/.local/lib/python3.6/site-packages/amodem/calib.py\", line 110, in iter_window\n",
      "    for item in iterable:\n",
      "  File \"/home/cryptane/.local/lib/python3.6/site-packages/amodem/calib.py\", line 93, in volume_calibration\n",
      "    for index, result in enumerate(itertools.chain([None], result_iterator)):\n",
      "  File \"/home/cryptane/.local/lib/python3.6/site-packages/amodem/calib.py\", line 65, in detector\n",
      "    for coeffs, peak, total in frame_iter(config, src, frame_length):\n",
      "  File \"/home/cryptane/.local/lib/python3.6/site-packages/amodem/calib.py\", line 45, in frame_iter\n",
      "    data = src.read(frame_size)\n",
      "  File \"/home/cryptane/.local/lib/python3.6/site-packages/amodem/async_reader.py\", line 38, in read\n",
      "    buf = self.queue.get()\n",
      "  File \"/usr/lib/python3.6/queue.py\", line 164, in get\n",
      "    self.not_empty.wait()\n",
      "  File \"/usr/lib/python3.6/threading.py\", line 295, in wait\n",
      "    waiter.acquire()\n",
      "KeyboardInterrupt\n"
     ]
    }
   ],
   "source": [
    "!amodem recv --calibrate"
   ]
  },
  {
   "cell_type": "markdown",
   "id": "3af42ac0",
   "metadata": {},
   "source": [
    "Interrupt the kernel when calibration is done"
   ]
  },
  {
   "cell_type": "markdown",
   "id": "3ae4e399",
   "metadata": {},
   "source": [
    "Temporary filename"
   ]
  },
  {
   "cell_type": "code",
   "execution_count": 6,
   "id": "848e01e5",
   "metadata": {},
   "outputs": [],
   "source": [
    "tempname=str(uuid.uuid4())\n",
    "os.environ['tempname']=tempname"
   ]
  },
  {
   "cell_type": "markdown",
   "id": "c5da9574",
   "metadata": {},
   "source": [
    "Receiving. Make sure this is running before sender attempts to send"
   ]
  },
  {
   "cell_type": "code",
   "execution_count": 8,
   "id": "a90f9709",
   "metadata": {},
   "outputs": [
    {
     "name": "stdout",
     "output_type": "stream",
     "text": [
      "2022-08-18 10:36:55,860 INFO       Audio OFDM MODEM v1.15.3: 16.0 kb/s (16-QAM x 4 carriers) Fs=16.0 kHz                                __main__.py:230\n",
      "2022-08-18 10:36:55,861 INFO       b'PortAudio V19.6.0-devel, revision 396fe4b6699ae929d3a685b3ef8a7e97396139a4' loaded                 audio.py:21\n",
      "ALSA lib pcm_dsnoop.c:618:(snd_pcm_dsnoop_open) unable to open slave\n",
      "ALSA lib pcm_dmix.c:1052:(snd_pcm_dmix_open) unable to open slave\n",
      "ALSA lib pcm.c:2495:(snd_pcm_open_noupdate) Unknown PCM cards.pcm.rear\n",
      "ALSA lib pcm.c:2495:(snd_pcm_open_noupdate) Unknown PCM cards.pcm.center_lfe\n",
      "ALSA lib pcm.c:2495:(snd_pcm_open_noupdate) Unknown PCM cards.pcm.side\n",
      "ALSA lib pcm_dmix.c:1052:(snd_pcm_dmix_open) unable to open slave\n",
      "2022-08-18 10:36:55,927 DEBUG      AsyncReader thread started                                                                           async_reader.py:26\n",
      "2022-08-18 10:36:55,927 DEBUG      Skipping 0.100 seconds                                                                               main.py:46\n",
      "2022-08-18 10:36:56,231 INFO       Waiting for carrier tone: 2.0 kHz                                                                    main.py:53\n",
      "2022-08-18 10:37:00,346 INFO       Carrier detected at ~4043.0 ms @ 2.0 kHz                                                             detect.py:61\n",
      "2022-08-18 10:37:00,346 DEBUG      Buffered 1000 ms of audio                                                                            detect.py:63\n",
      "2022-08-18 10:37:00,639 INFO       Carrier coherence: 99.068%                                                                           detect.py:94\n",
      "2022-08-18 10:37:00,639 DEBUG      Carrier starts at 4042.500 ms                                                                        detect.py:73\n",
      "2022-08-18 10:37:00,642 INFO       Carrier symbols amplitude : 0.421                                                                    detect.py:105\n",
      "2022-08-18 10:37:00,643 INFO       Frequency error: -13.763 ppm                                                                         detect.py:115\n",
      "2022-08-18 10:37:00,643 DEBUG      Frequency correction: 13.763 ppm                                                                     main.py:57\n",
      "2022-08-18 10:37:00,643 DEBUG      Gain correction: 2.373                                                                               main.py:60\n",
      "2022-08-18 10:37:00,643 DEBUG      Receiving                                                                                            recv.py:161\n",
      "2022-08-18 10:37:00,671 DEBUG      Prefix OK                                                                                            recv.py:50\n",
      "2022-08-18 10:37:00,866 DEBUG      Training completed                                                                                   recv.py:73\n",
      "2022-08-18 10:37:00,893 DEBUG        2.0 kHz: SNR = 24.56 dB                                                                            recv.py:95\n",
      "2022-08-18 10:37:00,894 DEBUG        3.0 kHz: SNR = 26.63 dB                                                                            recv.py:95\n",
      "2022-08-18 10:37:00,894 DEBUG        4.0 kHz: SNR = 26.81 dB                                                                            recv.py:95\n",
      "2022-08-18 10:37:00,894 DEBUG        5.0 kHz: SNR = 27.64 dB                                                                            recv.py:95\n",
      "2022-08-18 10:37:00,894 DEBUG      Training verified                                                                                    recv.py:99\n",
      "2022-08-18 10:37:00,895 INFO       Starting demodulation                                                                                recv.py:130\n",
      "2022-08-18 10:37:00,919 DEBUG      Good checksum: 87a21c22                                                                              framing.py:31\n",
      "2022-08-18 10:37:01,177 DEBUG      Good checksum: 523b2964                                                                              framing.py:31\n",
      "2022-08-18 10:37:01,203 DEBUG      Good checksum: ed1b7b2a                                                                              framing.py:31\n",
      "2022-08-18 10:37:01,355 DEBUG      Good checksum: d472fa6c                                                                              framing.py:31\n",
      "2022-08-18 10:37:01,378 DEBUG      Good checksum: 4f566938                                                                              framing.py:31\n",
      "2022-08-18 10:37:01,674 DEBUG      Good checksum: d415431a                                                                              framing.py:31\n",
      "2022-08-18 10:37:01,698 DEBUG      Good checksum: 202c8909                                                                              framing.py:31\n",
      "2022-08-18 10:37:01,861 DEBUG      Got       2.000 kB, SNR: 26.33 dB, drift: -13.83 ppm                                                 recv.py:157\n",
      "2022-08-18 10:37:01,864 DEBUG      Good checksum: f70710ef                                                                              framing.py:31\n",
      "2022-08-18 10:37:01,886 DEBUG      Good checksum: 8e3d36ee                                                                              framing.py:31\n",
      "2022-08-18 10:37:02,165 DEBUG      Good checksum: 0f2736ea                                                                              framing.py:31\n",
      "2022-08-18 10:37:02,186 DEBUG      Good checksum: 2fcba4c4                                                                              framing.py:31\n",
      "2022-08-18 10:37:02,375 DEBUG      Good checksum: 1f89fe42                                                                              framing.py:31\n",
      "2022-08-18 10:37:02,395 DEBUG      Good checksum: 3a58610c                                                                              framing.py:31\n",
      "2022-08-18 10:37:02,675 DEBUG      Good checksum: a9e53617                                                                              framing.py:31\n",
      "2022-08-18 10:37:02,698 DEBUG      Good checksum: 349c45e2                                                                              framing.py:31\n",
      "2022-08-18 10:37:02,960 DEBUG      Got       4.000 kB, SNR: 26.52 dB, drift: -13.90 ppm                                                 recv.py:157\n",
      "2022-08-18 10:37:02,968 DEBUG      Good checksum: 1372190c                                                                              framing.py:31\n",
      "2022-08-18 10:37:02,992 DEBUG      Good checksum: 80ea1fa9                                                                              framing.py:31\n",
      "2022-08-18 10:37:03,156 DEBUG      Good checksum: 91563071                                                                              framing.py:31\n",
      "2022-08-18 10:37:03,178 DEBUG      Good checksum: 7c66e608                                                                              framing.py:31\n",
      "2022-08-18 10:37:03,460 DEBUG      Good checksum: aeca8238                                                                              framing.py:31\n",
      "2022-08-18 10:37:03,482 DEBUG      Good checksum: 9be897b6                                                                              framing.py:31\n",
      "2022-08-18 10:37:03,670 DEBUG      Good checksum: 4d5e9036                                                                              framing.py:31\n",
      "2022-08-18 10:37:03,693 DEBUG      Good checksum: b4fa4031                                                                              framing.py:31\n",
      "2022-08-18 10:37:03,959 DEBUG      Got       6.000 kB, SNR: 26.68 dB, drift: -13.97 ppm                                                 recv.py:157\n",
      "2022-08-18 10:37:03,973 DEBUG      Good checksum: 1864e477                                                                              framing.py:31\n",
      "2022-08-18 10:37:03,994 DEBUG      Good checksum: b6b60e35                                                                              framing.py:31\n",
      "2022-08-18 10:37:04,183 DEBUG      Good checksum: 4db0bbc8                                                                              framing.py:31\n",
      "2022-08-18 10:37:04,203 DEBUG      Good checksum: 61942ae6                                                                              framing.py:31\n",
      "2022-08-18 10:37:04,453 DEBUG      Good checksum: 41096971                                                                              framing.py:31\n"
     ]
    },
    {
     "name": "stdout",
     "output_type": "stream",
     "text": [
      "2022-08-18 10:37:04,474 DEBUG      Good checksum: 7d0248db                                                                              framing.py:31\n",
      "2022-08-18 10:37:04,782 DEBUG      Good checksum: 273e1d95                                                                              framing.py:31\n",
      "2022-08-18 10:37:04,806 DEBUG      Good checksum: 609b1833                                                                              framing.py:31\n",
      "2022-08-18 10:37:04,816 DEBUG      Got       8.000 kB, SNR: 26.43 dB, drift: -14.01 ppm                                                 recv.py:157\n",
      "2022-08-18 10:37:04,961 DEBUG      Good checksum: 1e2a99fa                                                                              framing.py:31\n",
      "2022-08-18 10:37:04,983 DEBUG      Good checksum: d9fcda5e                                                                              framing.py:31\n",
      "2022-08-18 10:37:05,257 DEBUG      Good checksum: 8dcaf93c                                                                              framing.py:31\n",
      "2022-08-18 10:37:05,281 DEBUG      Good checksum: d702e574                                                                              framing.py:31\n",
      "2022-08-18 10:37:05,471 DEBUG      Good checksum: 0073c58a                                                                              framing.py:31\n",
      "2022-08-18 10:37:05,494 DEBUG      Good checksum: f99b7596                                                                              framing.py:31\n",
      "2022-08-18 10:37:05,771 DEBUG      Good checksum: 7d5b1f44                                                                              framing.py:31\n",
      "2022-08-18 10:37:05,791 DEBUG      Good checksum: c911dff3                                                                              framing.py:31\n",
      "2022-08-18 10:37:05,797 DEBUG      Got      10.000 kB, SNR: 26.27 dB, drift: -14.06 ppm                                                 recv.py:157\n",
      "2022-08-18 10:37:05,953 DEBUG      Good checksum: b2f54bf5                                                                              framing.py:31\n",
      "2022-08-18 10:37:05,976 DEBUG      Good checksum: 69e55a61                                                                              framing.py:31\n",
      "2022-08-18 10:37:06,252 DEBUG      Good checksum: afe9120b                                                                              framing.py:31\n",
      "2022-08-18 10:37:06,272 DEBUG      Good checksum: 9797abd9                                                                              framing.py:31\n",
      "2022-08-18 10:37:06,465 DEBUG      Good checksum: 3c00d3fc                                                                              framing.py:31\n",
      "2022-08-18 10:37:06,489 DEBUG      Good checksum: 4fed3493                                                                              framing.py:31\n",
      "2022-08-18 10:37:06,767 DEBUG      Good checksum: 5fd1693e                                                                              framing.py:31\n",
      "2022-08-18 10:37:06,787 DEBUG      Good checksum: e308d7fd                                                                              framing.py:31\n",
      "2022-08-18 10:37:06,789 DEBUG      Got      12.000 kB, SNR: 26.65 dB, drift: -14.10 ppm                                                 recv.py:157\n",
      "2022-08-18 10:37:07,067 DEBUG      Good checksum: 3c4f7c7a                                                                              framing.py:31\n",
      "2022-08-18 10:37:07,089 DEBUG      Good checksum: 794c9c39                                                                              framing.py:31\n",
      "2022-08-18 10:37:07,277 DEBUG      Good checksum: fd98aa0b                                                                              framing.py:31\n",
      "2022-08-18 10:37:07,299 DEBUG      Good checksum: d32c3bd3                                                                              framing.py:31\n",
      "2022-08-18 10:37:07,574 DEBUG      Good checksum: b2e2091e                                                                              framing.py:31\n",
      "2022-08-18 10:37:07,594 DEBUG      Good checksum: 111338b1                                                                              framing.py:31\n",
      "2022-08-18 10:37:07,759 DEBUG      Good checksum: 00e7e0dd                                                                              framing.py:31\n",
      "2022-08-18 10:37:07,781 DEBUG      Got      14.000 kB, SNR: 26.77 dB, drift: -14.11 ppm                                                 recv.py:157\n",
      "2022-08-18 10:37:07,783 DEBUG      Good checksum: 7c92b2ea                                                                              framing.py:31\n",
      "2022-08-18 10:37:08,059 DEBUG      Good checksum: 7cfdb7ba                                                                              framing.py:31\n",
      "2022-08-18 10:37:08,082 DEBUG      Good checksum: 233b7ebe                                                                              framing.py:31\n",
      "2022-08-18 10:37:08,268 DEBUG      Good checksum: 52fb991e                                                                              framing.py:31\n",
      "2022-08-18 10:37:08,293 DEBUG      Good checksum: f08415f4                                                                              framing.py:31\n",
      "2022-08-18 10:37:08,571 DEBUG      Good checksum: c11c9f25                                                                              framing.py:31\n",
      "2022-08-18 10:37:08,592 DEBUG      Good checksum: 70cd4cad                                                                              framing.py:31\n",
      "2022-08-18 10:37:08,751 DEBUG      Good checksum: 07094856                                                                              framing.py:31\n",
      "2022-08-18 10:37:08,767 DEBUG      Got      16.000 kB, SNR: 26.61 dB, drift: -14.13 ppm                                                 recv.py:157\n",
      "2022-08-18 10:37:08,773 DEBUG      Good checksum: 0bcec241                                                                              framing.py:31\n",
      "2022-08-18 10:37:09,051 DEBUG      Good checksum: 5e4601c7                                                                              framing.py:31\n",
      "2022-08-18 10:37:09,075 DEBUG      Good checksum: 177082a7                                                                              framing.py:31\n",
      "2022-08-18 10:37:09,351 DEBUG      Good checksum: ff817c3e                                                                              framing.py:31\n",
      "2022-08-18 10:37:09,375 DEBUG      Good checksum: 570a2909                                                                              framing.py:31\n",
      "2022-08-18 10:37:09,559 DEBUG      Good checksum: 3393dfa2                                                                              framing.py:31\n",
      "2022-08-18 10:37:09,582 DEBUG      Good checksum: 6db471a2                                                                              framing.py:31\n",
      "2022-08-18 10:37:09,860 DEBUG      Good checksum: a04cca3d                                                                              framing.py:31\n",
      "2022-08-18 10:37:09,873 DEBUG      Got      18.000 kB, SNR: 26.67 dB, drift: -14.17 ppm                                                 recv.py:157\n",
      "2022-08-18 10:37:09,883 DEBUG      Good checksum: 1ab59943                                                                              framing.py:31\n",
      "2022-08-18 10:37:10,071 DEBUG      Good checksum: 22f3568b                                                                              framing.py:31\n",
      "2022-08-18 10:37:10,094 DEBUG      Good checksum: 6adb912f                                                                              framing.py:31\n",
      "2022-08-18 10:37:10,370 DEBUG      Good checksum: 1c9affac                                                                              framing.py:31\n",
      "2022-08-18 10:37:10,391 DEBUG      Good checksum: da8ab646                                                                              framing.py:31\n",
      "2022-08-18 10:37:10,550 DEBUG      Good checksum: 66eb0c46                                                                              framing.py:31\n",
      "2022-08-18 10:37:10,572 DEBUG      Good checksum: 02869ef8                                                                              framing.py:31\n"
     ]
    },
    {
     "name": "stdout",
     "output_type": "stream",
     "text": [
      "2022-08-18 10:37:10,850 DEBUG      Good checksum: a0358a9a                                                                              framing.py:31\n",
      "2022-08-18 10:37:10,860 DEBUG      Got      20.000 kB, SNR: 26.92 dB, drift: -14.15 ppm                                                 recv.py:157\n",
      "2022-08-18 10:37:10,875 DEBUG      Good checksum: bf972ed3                                                                              framing.py:31\n",
      "2022-08-18 10:37:11,150 DEBUG      Good checksum: 37ef6512                                                                              framing.py:31\n",
      "2022-08-18 10:37:11,175 DEBUG      Good checksum: 9c62fb33                                                                              framing.py:31\n",
      "2022-08-18 10:37:11,358 DEBUG      Good checksum: 34b15432                                                                              framing.py:31\n",
      "2022-08-18 10:37:11,381 DEBUG      Good checksum: 6b30e44f                                                                              framing.py:31\n",
      "2022-08-18 10:37:11,661 DEBUG      Good checksum: b490c045                                                                              framing.py:31\n",
      "2022-08-18 10:37:11,683 DEBUG      Good checksum: 3ffb3391                                                                              framing.py:31\n",
      "2022-08-18 10:37:11,870 DEBUG      Good checksum: 0cd6f6fb                                                                              framing.py:31\n",
      "2022-08-18 10:37:11,877 DEBUG      Got      22.000 kB, SNR: 26.54 dB, drift: -14.19 ppm                                                 recv.py:157\n",
      "2022-08-18 10:37:11,895 DEBUG      Good checksum: a4513ad9                                                                              framing.py:31\n",
      "2022-08-18 10:37:12,171 DEBUG      Good checksum: 9fe3a759                                                                              framing.py:31\n",
      "2022-08-18 10:37:12,192 DEBUG      Good checksum: e7238aaa                                                                              framing.py:31\n",
      "2022-08-18 10:37:12,351 DEBUG      Good checksum: 03c844c8                                                                              framing.py:31\n",
      "2022-08-18 10:37:12,373 DEBUG      Good checksum: b5b97dfe                                                                              framing.py:31\n",
      "2022-08-18 10:37:12,654 DEBUG      Good checksum: 1fd1fd79                                                                              framing.py:31\n",
      "2022-08-18 10:37:12,682 DEBUG      Good checksum: 20510d17                                                                              framing.py:31\n",
      "2022-08-18 10:37:12,864 DEBUG      Good checksum: 5c1e3c5d                                                                              framing.py:31\n",
      "2022-08-18 10:37:12,867 DEBUG      Got      24.000 kB, SNR: 26.51 dB, drift: -14.18 ppm                                                 recv.py:157\n",
      "2022-08-18 10:37:12,886 DEBUG      Good checksum: 982d2014                                                                              framing.py:31\n",
      "2022-08-18 10:37:13,167 DEBUG      Good checksum: 4a3f3470                                                                              framing.py:31\n",
      "2022-08-18 10:37:13,192 DEBUG      Good checksum: 71aa24d3                                                                              framing.py:31\n",
      "2022-08-18 10:37:13,461 DEBUG      Good checksum: 6661d5ef                                                                              framing.py:31\n",
      "2022-08-18 10:37:13,485 DEBUG      Good checksum: 1eb6d4f6                                                                              framing.py:31\n",
      "2022-08-18 10:37:13,637 DEBUG      Good checksum: 09b4f301                                                                              framing.py:31\n",
      "2022-08-18 10:37:13,639 DEBUG      Good checksum: 00000000                                                                              framing.py:31\n",
      "2022-08-18 10:37:13,639 DEBUG      EOF frame detected                                                                                   framing.py:60\n",
      "2022-08-18 10:37:13,640 DEBUG      Demodulated 25.445 kB @ 12.745 seconds (100.2% realtime)                                             recv.py:181\n",
      "2022-08-18 10:37:13,640 INFO       Received 24.940 kB @ 12.745 seconds = 1.957 kB/s                                                     recv.py:185\n",
      "2022-08-18 10:37:13,749 DEBUG      AsyncReader thread stopped (read 569600 bytes)                                                       async_reader.py:31\n",
      "2022-08-18 10:37:13,751 DEBUG      Finished I/O                                                                                         __main__.py:261\n"
     ]
    }
   ],
   "source": [
    "!amodem recv -vv -o $tempname"
   ]
  },
  {
   "cell_type": "markdown",
   "id": "eb90dfc2",
   "metadata": {},
   "source": [
    "Match checksum with sender"
   ]
  },
  {
   "cell_type": "code",
   "execution_count": null,
   "id": "ed6e4ef1",
   "metadata": {},
   "outputs": [],
   "source": [
    "!sha512sum $tempname"
   ]
  },
  {
   "cell_type": "markdown",
   "id": "1e29a2e4",
   "metadata": {},
   "source": [
    "Read the received file and decrypt"
   ]
  },
  {
   "cell_type": "code",
   "execution_count": 10,
   "id": "f01256ad",
   "metadata": {},
   "outputs": [],
   "source": [
    "with open(tempname,'rb') as f:\n",
    "    tempdata=f.read()\n",
    "\n",
    "data=tempdata"
   ]
  },
  {
   "cell_type": "markdown",
   "id": "5590f73d",
   "metadata": {},
   "source": [
    "Extract metadata"
   ]
  },
  {
   "cell_type": "code",
   "execution_count": null,
   "id": "2835e5e7",
   "metadata": {},
   "outputs": [],
   "source": [
    "flnlen=data[0]\n",
    "fln=data[1:(flnlen+1)].decode()\n",
    "file_content=data[(flnlen+1):]"
   ]
  },
  {
   "cell_type": "code",
   "execution_count": null,
   "id": "49863788",
   "metadata": {},
   "outputs": [],
   "source": [
    "flnlen"
   ]
  },
  {
   "cell_type": "code",
   "execution_count": null,
   "id": "965ec424",
   "metadata": {},
   "outputs": [],
   "source": [
    "fln"
   ]
  },
  {
   "cell_type": "markdown",
   "id": "15327939",
   "metadata": {},
   "source": [
    "Write to file"
   ]
  },
  {
   "cell_type": "code",
   "execution_count": null,
   "id": "0dfeb09d",
   "metadata": {},
   "outputs": [],
   "source": [
    "file=open(fln,'wb')\n",
    "file.write(file_content)\n",
    "file.close()"
   ]
  },
  {
   "cell_type": "markdown",
   "id": "368d8345",
   "metadata": {},
   "source": [
    "Handle download"
   ]
  },
  {
   "cell_type": "code",
   "execution_count": null,
   "id": "4fafc45c",
   "metadata": {},
   "outputs": [],
   "source": [
    "local_file = FileLink(fln, result_html_prefix=\"Click here to download: \")\n",
    "display(local_file)"
   ]
  },
  {
   "cell_type": "markdown",
   "id": "54097c69",
   "metadata": {},
   "source": [
    "Cleanup"
   ]
  },
  {
   "cell_type": "code",
   "execution_count": null,
   "id": "6cb3b3d6",
   "metadata": {},
   "outputs": [],
   "source": [
    "os.remove(fln)\n",
    "os.remove(tempname)"
   ]
  }
 ],
 "metadata": {
  "kernelspec": {
   "display_name": "Python 3",
   "language": "python",
   "name": "python3"
  },
  "language_info": {
   "codemirror_mode": {
    "name": "ipython",
    "version": 3
   },
   "file_extension": ".py",
   "mimetype": "text/x-python",
   "name": "python",
   "nbconvert_exporter": "python",
   "pygments_lexer": "ipython3",
   "version": "3.6.9"
  }
 },
 "nbformat": 4,
 "nbformat_minor": 5
}
