{
 "cells": [
  {
   "cell_type": "code",
   "execution_count": null,
   "id": "520f537d",
   "metadata": {},
   "outputs": [],
   "source": [
    "#Sensitive Encryption key\n",
    "cryptokey='AIxyLjsFocf-NEuEXRS_VUJ1XEEkf4nE9QQ2cWnhlro='"
   ]
  },
  {
   "cell_type": "markdown",
   "id": "44c96024",
   "metadata": {},
   "source": [
    "Installing dependencies"
   ]
  },
  {
   "cell_type": "code",
   "execution_count": null,
   "id": "246cb116",
   "metadata": {},
   "outputs": [],
   "source": [
    "!pip3 install pillow pydub soundfile numpy opencv-python uuid amodem ffmpeg-python"
   ]
  },
  {
   "cell_type": "code",
   "execution_count": null,
   "id": "f4ffb81d",
   "metadata": {},
   "outputs": [],
   "source": [
    "!pip3 uninstall ffmpeg"
   ]
  },
  {
   "cell_type": "markdown",
   "id": "e31f6203",
   "metadata": {},
   "source": [
    "Importing necessary libraries"
   ]
  },
  {
   "cell_type": "code",
   "execution_count": null,
   "id": "a92835a6",
   "metadata": {},
   "outputs": [],
   "source": [
    "import os\n",
    "from PIL import Image\n",
    "import soundfile as sf\n",
    "from pydub import AudioSegment\n",
    "import numpy as np\n",
    "import cv2\n",
    "import ffmpeg\n",
    "import uuid\n",
    "from ipywidgets import FileUpload\n",
    "from cryptography.fernet import Fernet"
   ]
  },
  {
   "cell_type": "markdown",
   "id": "6fc32733",
   "metadata": {},
   "source": [
    "Defining functions for compression"
   ]
  },
  {
   "cell_type": "code",
   "execution_count": null,
   "id": "197486a9",
   "metadata": {},
   "outputs": [],
   "source": [
    "def compressPNG(origfile, newfile):\n",
    "    img=Image.open(origfile)\n",
    "    img=img.convert(\"P\", palette=Image.ADAPTIVE, colors=256)\n",
    "    img.save(newfile, optimize=True)"
   ]
  },
  {
   "cell_type": "code",
   "execution_count": null,
   "id": "5042ea38",
   "metadata": {},
   "outputs": [],
   "source": [
    "def compressJPEG(origfile,newfile):\n",
    "    img=Image.open(origfile)\n",
    "    img=img.convert(\"P\", palette=Image.ADAPTIVE, colors=256)\n",
    "    img.save(newfile,\"JPEG\", optimize=True)"
   ]
  },
  {
   "cell_type": "code",
   "execution_count": null,
   "id": "1f4ce69c",
   "metadata": {},
   "outputs": [],
   "source": [
    "def compressVid(origfile,newfile):\n",
    "    os.system(f'ffmpeg -i {origfile} -vf \"scale=trunc(iw/4)*2:trunc(ih/4)*2\" -c:v libx265 -crf 28 {newfile}')"
   ]
  },
  {
   "cell_type": "code",
   "execution_count": null,
   "id": "8768e785",
   "metadata": {},
   "outputs": [],
   "source": [
    "def compressWAV(origfile, newfile):\n",
    "    data, samplerate=sf.read(origfile)\n",
    "    n=len(data)\n",
    "    Fs=samplerate\n",
    "    ch1=np.array([data[i][0] for i in range(n)])\n",
    "    ch2=np.array([data[i][1] for i in range(n)])\n",
    "    ch1_Fourier=np.fft.fft(ch1)\n",
    "    abs_ch1_Fourier=np.absolute(ch1_Fourier[:n//2])\n",
    "    eps=1e-5\n",
    "    frequenciesToRemove = (1-eps) * np.sum(abs_ch1_Fourier) < np.cumsum(abs_ch1_Fourier)\n",
    "    f0=(len(frequenciesToRemove)- np.sum(frequenciesToRemove))*(Fs/2)/(n/2)\n",
    "    D=int(Fs/f0)\n",
    "    new_data=data[::D,:]\n",
    "    sf.write(newfile, new_data, int(Fs/D), 'PCM_16')"
   ]
  },
  {
   "cell_type": "code",
   "execution_count": null,
   "id": "6de80034",
   "metadata": {},
   "outputs": [],
   "source": [
    "def compressMP3(origfile, newfile):\n",
    "    tempname1=str(uuid.uuid4())+\".wav\"\n",
    "    tempname2=str(uuid.uuid4())+\".wav\"\n",
    "    audio=AudioSegment.from_mp3(origfile)\n",
    "    audio.export(tempname1, format=\"wav\")\n",
    "    compressWAV(tempname1, tempname2)\n",
    "    audio2=AudioSegment.from_wav(tempname2)\n",
    "    audio2.export(newfile, format=\"mp3\")\n",
    "    os.remove(tempname1)\n",
    "    os.remove(tempname2)"
   ]
  },
  {
   "cell_type": "markdown",
   "id": "836c6f57",
   "metadata": {},
   "source": [
    "Set bitrate"
   ]
  },
  {
   "cell_type": "code",
   "execution_count": null,
   "id": "fbc11f8b",
   "metadata": {},
   "outputs": [],
   "source": [
    "def setBitrate():\n",
    "    os.environ['BITRATE']='16'"
   ]
  },
  {
   "cell_type": "code",
   "execution_count": null,
   "id": "af26325f",
   "metadata": {},
   "outputs": [],
   "source": [
    "setBitrate()"
   ]
  },
  {
   "cell_type": "markdown",
   "id": "7d62bad4",
   "metadata": {},
   "source": [
    "Calibration\n",
    "Check audio output device"
   ]
  },
  {
   "cell_type": "code",
   "execution_count": null,
   "id": "bfbb36e8",
   "metadata": {},
   "outputs": [],
   "source": [
    "!amodem send --calibrate"
   ]
  },
  {
   "cell_type": "markdown",
   "id": "fb2f6bbc",
   "metadata": {},
   "source": [
    "Interrupt the kernel when done"
   ]
  },
  {
   "cell_type": "code",
   "execution_count": null,
   "id": "ca1308be",
   "metadata": {},
   "outputs": [],
   "source": [
    "#Variable for filename\n",
    "global fln\n",
    "fln=''"
   ]
  },
  {
   "cell_type": "markdown",
   "id": "62cb292e",
   "metadata": {},
   "source": [
    "Handle upload"
   ]
  },
  {
   "cell_type": "code",
   "execution_count": null,
   "id": "994afb52",
   "metadata": {},
   "outputs": [],
   "source": [
    "def on_upload_change(change):\n",
    "    global fln\n",
    "    if not change.new:\n",
    "        return\n",
    "    up = change.owner\n",
    "    for filename,data in up.value.items():\n",
    "        with open(filename, 'wb') as f:\n",
    "            fln=filename\n",
    "            f.write(data['content'])\n",
    "    up.value.clear()\n",
    "    up._counter = 0\n",
    "\n",
    "upload_btn = FileUpload()\n",
    "upload_btn.observe(on_upload_change, names='_counter')\n",
    "upload_btn\n"
   ]
  },
  {
   "cell_type": "code",
   "execution_count": null,
   "id": "1e0211a2",
   "metadata": {},
   "outputs": [],
   "source": [
    "print(\"Filename: \"+fln)"
   ]
  },
  {
   "cell_type": "markdown",
   "id": "fd5c46b6",
   "metadata": {},
   "source": [
    "Compress"
   ]
  },
  {
   "cell_type": "code",
   "execution_count": null,
   "id": "244749ba",
   "metadata": {},
   "outputs": [],
   "source": [
    "ext=os.path.splitext(fln)[1]\n",
    "newname=str(uuid.uuid4())+ext\n",
    "if ext=='.png' or ext == '.PNG':\n",
    "    compressPNG(fln, newname)\n",
    "if ext=='.jpg' or ext=='.JPG' or ext=='.JPEG' or ext=='.jpeg':\n",
    "    compressJPEG(fln,newname)\n",
    "if ext=='.mp4' or ext=='.MP4':\n",
    "    compressVid(fln, newname)\n",
    "if ext=='.wav' or ext=='.WAV':\n",
    "    compressWAV(fln, newname)\n",
    "if ext=='.mp3' or ext=='.MP3':\n",
    "    compressMP3(fln,newname)"
   ]
  },
  {
   "cell_type": "markdown",
   "id": "a10af1f2",
   "metadata": {},
   "source": [
    "Use compressed file"
   ]
  },
  {
   "cell_type": "code",
   "execution_count": null,
   "id": "b45a920b",
   "metadata": {},
   "outputs": [],
   "source": [
    "file = open(newname, 'rb')\n",
    "file_content = file.read()\n",
    "file.close()"
   ]
  },
  {
   "cell_type": "markdown",
   "id": "ff35312e",
   "metadata": {},
   "source": [
    "Generating Metadata"
   ]
  },
  {
   "cell_type": "code",
   "execution_count": null,
   "id": "4c421165",
   "metadata": {},
   "outputs": [],
   "source": [
    "flnlen=len(fln).to_bytes(1,byteorder='big')\n",
    "metadata=flnlen+fln.encode()\n",
    "data=metadata+file_content"
   ]
  },
  {
   "cell_type": "code",
   "execution_count": null,
   "id": "0e9f17a5",
   "metadata": {},
   "outputs": [],
   "source": [
    "data"
   ]
  },
  {
   "cell_type": "markdown",
   "id": "a3417276",
   "metadata": {},
   "source": [
    "Encrypt"
   ]
  },
  {
   "cell_type": "code",
   "execution_count": null,
   "id": "115d67e3",
   "metadata": {},
   "outputs": [],
   "source": [
    "fkey = Fernet(cryptokey.encode())\n",
    "encdata=fkey.encrypt(data)\n",
    "tempdata=encdata"
   ]
  },
  {
   "cell_type": "code",
   "execution_count": null,
   "id": "b809db1f",
   "metadata": {},
   "outputs": [],
   "source": [
    "tempdata=data"
   ]
  },
  {
   "cell_type": "markdown",
   "id": "0ef1a578",
   "metadata": {},
   "source": [
    "Combine metadata and data and write to a temporary file"
   ]
  },
  {
   "cell_type": "code",
   "execution_count": null,
   "id": "6acc430c",
   "metadata": {},
   "outputs": [],
   "source": [
    "tempname=str(uuid.uuid4())\n",
    "with open(tempname, 'wb') as f:\n",
    "    f.write(tempdata)\n",
    "os.environ['tempname']=tempname"
   ]
  },
  {
   "cell_type": "code",
   "execution_count": null,
   "id": "fcad59d6",
   "metadata": {},
   "outputs": [],
   "source": [
    "tempname"
   ]
  },
  {
   "cell_type": "code",
   "execution_count": null,
   "id": "1902a855",
   "metadata": {},
   "outputs": [],
   "source": [
    "tempsize = os.path.getsize(tempname)\n",
    "print(f\"Attempting to send {tempsize} bytes\")\n",
    "print(\"Make sure receiver is listening\")"
   ]
  },
  {
   "cell_type": "markdown",
   "id": "cf3c9536",
   "metadata": {},
   "source": [
    "Sending"
   ]
  },
  {
   "cell_type": "code",
   "execution_count": null,
   "id": "b152d9ef",
   "metadata": {},
   "outputs": [],
   "source": [
    "!echo $BITRATE"
   ]
  },
  {
   "cell_type": "code",
   "execution_count": null,
   "id": "2532305e",
   "metadata": {},
   "outputs": [],
   "source": [
    "!amodem send -vv -i $tempname"
   ]
  },
  {
   "cell_type": "markdown",
   "id": "01502d79",
   "metadata": {},
   "source": [
    "Match checksum with receiver"
   ]
  },
  {
   "cell_type": "code",
   "execution_count": null,
   "id": "00237f5e",
   "metadata": {},
   "outputs": [],
   "source": [
    "!sha512sum $tempname"
   ]
  },
  {
   "cell_type": "markdown",
   "id": "21711f35",
   "metadata": {},
   "source": [
    "Cleanup: Delete temporary file and uploaded file"
   ]
  },
  {
   "cell_type": "code",
   "execution_count": null,
   "id": "84505a43",
   "metadata": {},
   "outputs": [],
   "source": [
    "os.remove(fln)\n",
    "os.remove(newname)\n",
    "os.remove(tempname)"
   ]
  }
 ],
 "metadata": {
  "kernelspec": {
   "display_name": "Python 3",
   "language": "python",
   "name": "python3"
  },
  "language_info": {
   "codemirror_mode": {
    "name": "ipython",
    "version": 3
   },
   "file_extension": ".py",
   "mimetype": "text/x-python",
   "name": "python",
   "nbconvert_exporter": "python",
   "pygments_lexer": "ipython3",
   "version": "3.6.9"
  }
 },
 "nbformat": 4,
 "nbformat_minor": 5
}
