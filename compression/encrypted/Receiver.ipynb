{
 "cells": [
  {
   "cell_type": "code",
   "execution_count": 14,
   "id": "425063df",
   "metadata": {},
   "outputs": [],
   "source": [
    "#Sensitive Encryption key\n",
    "cryptokey='AIxyLjsFocf-NEuEXRS_VUJ1XEEkf4nE9QQ2cWnhlro='"
   ]
  },
  {
   "cell_type": "markdown",
   "id": "c85b723e",
   "metadata": {},
   "source": [
    "Installing dependencies"
   ]
  },
  {
   "cell_type": "code",
   "execution_count": 15,
   "id": "2f51bc8d",
   "metadata": {},
   "outputs": [
    {
     "name": "stdout",
     "output_type": "stream",
     "text": [
      "/usr/lib/python3/dist-packages/secretstorage/dhcrypto.py:15: CryptographyDeprecationWarning: int_from_bytes is deprecated, use int.from_bytes instead\n",
      "  from cryptography.utils import int_from_bytes\n",
      "/usr/lib/python3/dist-packages/secretstorage/util.py:19: CryptographyDeprecationWarning: int_from_bytes is deprecated, use int.from_bytes instead\n",
      "  from cryptography.utils import int_from_bytes\n",
      "Defaulting to user installation because normal site-packages is not writeable\n",
      "Requirement already satisfied: amodem in /home/cryptane/.local/lib/python3.6/site-packages (1.15.3)\n",
      "Requirement already satisfied: uuid in /home/cryptane/.local/lib/python3.6/site-packages (1.30)\n",
      "Requirement already satisfied: cryptography in /home/cryptane/.local/lib/python3.6/site-packages (36.0.2)\n",
      "Requirement already satisfied: numpy in /home/cryptane/.local/lib/python3.6/site-packages (from amodem) (1.19.5)\n",
      "Requirement already satisfied: cffi>=1.12 in /home/cryptane/.local/lib/python3.6/site-packages (from cryptography) (1.15.0)\n",
      "Requirement already satisfied: pycparser in /home/cryptane/.local/lib/python3.6/site-packages (from cffi>=1.12->cryptography) (2.21)\n"
     ]
    }
   ],
   "source": [
    "!pip3 install amodem uuid cryptography"
   ]
  },
  {
   "cell_type": "markdown",
   "id": "e81ed026",
   "metadata": {},
   "source": [
    "Importing necessary libraries"
   ]
  },
  {
   "cell_type": "code",
   "execution_count": 16,
   "id": "99e01af9",
   "metadata": {},
   "outputs": [],
   "source": [
    "import os\n",
    "import uuid\n",
    "import ipywidgets\n",
    "from IPython.display import display, FileLink\n",
    "import base64\n",
    "from cryptography.fernet import Fernet"
   ]
  },
  {
   "cell_type": "markdown",
   "id": "81e5130a",
   "metadata": {},
   "source": [
    "Setting bitrate for 2kbps"
   ]
  },
  {
   "cell_type": "code",
   "execution_count": 17,
   "id": "480884e5",
   "metadata": {},
   "outputs": [],
   "source": [
    "def setBitrate():\n",
    "    os.environ['BITRATE']='16'"
   ]
  },
  {
   "cell_type": "code",
   "execution_count": 18,
   "id": "b9a9187c",
   "metadata": {},
   "outputs": [],
   "source": [
    "setBitrate()"
   ]
  },
  {
   "cell_type": "markdown",
   "id": "b13fb170",
   "metadata": {},
   "source": [
    " Calibration - Check audio input device"
   ]
  },
  {
   "cell_type": "code",
   "execution_count": 19,
   "id": "a0dd5c20",
   "metadata": {},
   "outputs": [
    {
     "name": "stdout",
     "output_type": "stream",
     "text": [
      "16\r\n"
     ]
    }
   ],
   "source": [
    "!echo $BITRATE"
   ]
  },
  {
   "cell_type": "code",
   "execution_count": 20,
   "id": "76c776f8",
   "metadata": {},
   "outputs": [
    {
     "name": "stdout",
     "output_type": "stream",
     "text": [
      "Audio OFDM MODEM v1.15.3: 16.0 kb/s (16-QAM x 4 carriers) Fs=16.0 kHz\n",
      "b'PortAudio V19.6.0-devel, revision 396fe4b6699ae929d3a685b3ef8a7e97396139a4' loaded\n",
      "ALSA lib pcm_dsnoop.c:618:(snd_pcm_dsnoop_open) unable to open slave\n",
      "ALSA lib pcm.c:2495:(snd_pcm_open_noupdate) Unknown PCM cards.pcm.rear\n",
      "ALSA lib pcm.c:2495:(snd_pcm_open_noupdate) Unknown PCM cards.pcm.center_lfe\n",
      "ALSA lib pcm.c:2495:(snd_pcm_open_noupdate) Unknown PCM cards.pcm.side\n",
      "ALSA lib pcm_route.c:867:(find_matching_chmap) Found no matching channel map\n",
      "ALSA lib pcm_route.c:867:(find_matching_chmap) Found no matching channel map\n",
      "ALSA lib pcm_route.c:867:(find_matching_chmap) Found no matching channel map\n",
      "verbose: 0\n",
      "  3000 Hz: good signal         \n",
      "  3000 Hz: good signal         \n",
      "  3000 Hz: frequency change    \n",
      "  4000 Hz: good signal         \n",
      "  4000 Hz: good signal         \n",
      "  4000 Hz: good signal         \n",
      "  4000 Hz: good signal         \n",
      "  4000 Hz: frequency change    \n",
      "  5000 Hz: good signal         \n",
      "  5000 Hz: good signal         \n",
      "  5000 Hz: good signal         \n",
      "  5000 Hz: good signal         \n",
      "  5000 Hz: frequency change    \n",
      "  2000 Hz: good signal         \n",
      "  2000 Hz: good signal         \n",
      "  2000 Hz: good signal         \n",
      "  2000 Hz: good signal         \n",
      "  2000 Hz: frequency change    \n",
      "  3000 Hz: good signal         \n",
      "  3000 Hz: good signal         \n",
      "  3000 Hz: good signal         \n",
      "  3000 Hz: good signal         \n",
      "  3000 Hz: frequency change    \n",
      "  4000 Hz: good signal         \n",
      "  4000 Hz: good signal         \n",
      "  4000 Hz: good signal         \n",
      "  4000 Hz: good signal         \n",
      "  4000 Hz: frequency change    \n",
      "  5000 Hz: good signal         \n",
      "  5000 Hz: good signal         \n",
      "  5000 Hz: good signal         \n",
      "  5000 Hz: good signal         \n",
      "  5000 Hz: frequency change    \n",
      "  2000 Hz: good signal         \n",
      "  2000 Hz: good signal         \n",
      "  2000 Hz: good signal         \n",
      "  2000 Hz: good signal         \n",
      "  2000 Hz: frequency change    \n",
      "  3000 Hz: good signal         \n",
      "  3000 Hz: good signal         \n",
      "  3000 Hz: good signal         \n",
      "^C\n",
      "Traceback (most recent call last):\n",
      "  File \"/home/cryptane/.local/bin/amodem\", line 8, in <module>\n",
      "    sys.exit(_main())\n",
      "  File \"/home/cryptane/.local/lib/python3.6/site-packages/amodem/__main__.py\", line 257, in _main\n",
      "    args.calib(config=config, args=args)\n",
      "  File \"/home/cryptane/.local/lib/python3.6/site-packages/amodem/__main__.py\", line 159, in <lambda>\n",
      "    volume_cmd=get_volume_cmd(args)\n",
      "  File \"/home/cryptane/.local/lib/python3.6/site-packages/amodem/calib.py\", line 140, in recv\n",
      "    for state in recv_iter(config, src, volume_cmd, dump_audio):\n",
      "  File \"/home/cryptane/.local/lib/python3.6/site-packages/amodem/calib.py\", line 124, in recv_iter\n",
      "    for _prev, curr, _next in iter_window(result_iterator, size=3):\n",
      "  File \"/home/cryptane/.local/lib/python3.6/site-packages/amodem/calib.py\", line 110, in iter_window\n",
      "    for item in iterable:\n",
      "  File \"/home/cryptane/.local/lib/python3.6/site-packages/amodem/calib.py\", line 93, in volume_calibration\n",
      "    for index, result in enumerate(itertools.chain([None], result_iterator)):\n",
      "  File \"/home/cryptane/.local/lib/python3.6/site-packages/amodem/calib.py\", line 65, in detector\n",
      "    for coeffs, peak, total in frame_iter(config, src, frame_length):\n",
      "  File \"/home/cryptane/.local/lib/python3.6/site-packages/amodem/calib.py\", line 45, in frame_iter\n",
      "    data = src.read(frame_size)\n",
      "  File \"/home/cryptane/.local/lib/python3.6/site-packages/amodem/async_reader.py\", line 38, in read\n",
      "    buf = self.queue.get()\n",
      "  File \"/usr/lib/python3.6/queue.py\", line 164, in get\n",
      "    self.not_empty.wait()\n",
      "  File \"/usr/lib/python3.6/threading.py\", line 295, in wait\n",
      "    waiter.acquire()\n",
      "KeyboardInterrupt\n"
     ]
    }
   ],
   "source": [
    "!amodem recv --calibrate"
   ]
  },
  {
   "cell_type": "markdown",
   "id": "3af42ac0",
   "metadata": {},
   "source": [
    "Interrupt the kernel when calibration is done"
   ]
  },
  {
   "cell_type": "markdown",
   "id": "3ae4e399",
   "metadata": {},
   "source": [
    "Temporary filename"
   ]
  },
  {
   "cell_type": "code",
   "execution_count": 21,
   "id": "848e01e5",
   "metadata": {},
   "outputs": [],
   "source": [
    "tempname=str(uuid.uuid4())\n",
    "os.environ['tempname']=tempname"
   ]
  },
  {
   "cell_type": "markdown",
   "id": "c5da9574",
   "metadata": {},
   "source": [
    "Receiving. Make sure this is running before sender attempts to send"
   ]
  },
  {
   "cell_type": "code",
   "execution_count": null,
   "id": "a90f9709",
   "metadata": {},
   "outputs": [],
   "source": [
    "!amodem recv -vv -o $tempname"
   ]
  },
  {
   "cell_type": "markdown",
   "id": "1e29a2e4",
   "metadata": {},
   "source": [
    "Read the received file and decrypt"
   ]
  },
  {
   "cell_type": "code",
   "execution_count": null,
   "id": "f01256ad",
   "metadata": {},
   "outputs": [],
   "source": [
    "fkey = Fernet(cryptokey.encode())\n",
    "with open(tempname,'rb') as f:\n",
    "    tempdata=f.read()\n",
    "\n",
    "encdata=tempdata\n",
    "data=fkey.decrypt(encdata)"
   ]
  },
  {
   "cell_type": "markdown",
   "id": "5590f73d",
   "metadata": {},
   "source": [
    "Extract metadata"
   ]
  },
  {
   "cell_type": "code",
   "execution_count": null,
   "id": "2835e5e7",
   "metadata": {},
   "outputs": [],
   "source": [
    "flnlen=data[0]\n",
    "fln=data[1:(flnlen+1)].decode()\n",
    "file_content=data[(flnlen+1):]"
   ]
  },
  {
   "cell_type": "code",
   "execution_count": null,
   "id": "49863788",
   "metadata": {},
   "outputs": [],
   "source": [
    "flnlen"
   ]
  },
  {
   "cell_type": "code",
   "execution_count": null,
   "id": "965ec424",
   "metadata": {},
   "outputs": [],
   "source": [
    "fln"
   ]
  },
  {
   "cell_type": "markdown",
   "id": "15327939",
   "metadata": {},
   "source": [
    "Write to file"
   ]
  },
  {
   "cell_type": "code",
   "execution_count": null,
   "id": "0dfeb09d",
   "metadata": {},
   "outputs": [],
   "source": [
    "file=open(fln,'wb')\n",
    "file.write(file_content)\n",
    "file.close()"
   ]
  },
  {
   "cell_type": "markdown",
   "id": "368d8345",
   "metadata": {},
   "source": [
    "Handle download"
   ]
  },
  {
   "cell_type": "code",
   "execution_count": null,
   "id": "4fafc45c",
   "metadata": {},
   "outputs": [],
   "source": [
    "local_file = FileLink(fln, result_html_prefix=\"Click here to download: \")\n",
    "display(local_file)"
   ]
  },
  {
   "cell_type": "markdown",
   "id": "54097c69",
   "metadata": {},
   "source": [
    "Cleanup"
   ]
  },
  {
   "cell_type": "code",
   "execution_count": null,
   "id": "6cb3b3d6",
   "metadata": {},
   "outputs": [],
   "source": [
    "os.remove(fln)\n",
    "os.remove(tempname)"
   ]
  }
 ],
 "metadata": {
  "kernelspec": {
   "display_name": "Python 3",
   "language": "python",
   "name": "python3"
  },
  "language_info": {
   "codemirror_mode": {
    "name": "ipython",
    "version": 3
   },
   "file_extension": ".py",
   "mimetype": "text/x-python",
   "name": "python",
   "nbconvert_exporter": "python",
   "pygments_lexer": "ipython3",
   "version": "3.6.9"
  }
 },
 "nbformat": 4,
 "nbformat_minor": 5
}
