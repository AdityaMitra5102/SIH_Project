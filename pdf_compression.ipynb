{
 "cells": [
  {
   "cell_type": "code",
   "execution_count": 1,
   "metadata": {},
   "outputs": [],
   "source": [
    "import os\n",
    "from PIL import Image\n",
    "import soundfile as sf\n",
    "from pydub import AudioSegment\n",
    "import numpy as np\n",
    "import cv2\n",
    "import ffmpeg\n",
    "import uuid\n",
    "import base64\n",
    "from ipywidgets import FileUpload\n",
    "from cryptography.fernet import Fernet\n",
    "from cryptography.hazmat.primitives import hashes\n",
    "from cryptography.hazmat.primitives.kdf.pbkdf2 import PBKDF2HMAC"
   ]
  },
  {
   "cell_type": "code",
   "execution_count": 13,
   "metadata": {},
   "outputs": [],
   "source": [
    "def compressPNG(origfile, newfile):\n",
    "    img=Image.open(origfile)\n",
    "    img=img.convert(\"P\", palette=Image.ADAPTIVE, colors=256)\n",
    "    img.save(newfile, optimize=True)"
   ]
  },
  {
   "cell_type": "code",
   "execution_count": 4,
   "metadata": {},
   "outputs": [
    {
     "name": "stdout",
     "output_type": "stream",
     "text": [
      "<_io.BufferedWriter name='/home/anorak/Desktop/MIND-PALACE/SIH_Project-main/pdfdata/refactor-files/document-page0.pdf'>\n",
      "<_io.BufferedWriter name='/home/anorak/Desktop/MIND-PALACE/SIH_Project-main/pdfdata/refactor-files/document-page1.pdf'>\n",
      "<_io.BufferedWriter name='/home/anorak/Desktop/MIND-PALACE/SIH_Project-main/pdfdata/refactor-files/document-page2.pdf'>\n",
      "<_io.BufferedWriter name='/home/anorak/Desktop/MIND-PALACE/SIH_Project-main/pdfdata/refactor-files/document-page3.pdf'>\n",
      "<_io.BufferedWriter name='/home/anorak/Desktop/MIND-PALACE/SIH_Project-main/pdfdata/refactor-files/document-page4.pdf'>\n",
      "<_io.BufferedWriter name='/home/anorak/Desktop/MIND-PALACE/SIH_Project-main/pdfdata/refactor-files/document-page5.pdf'>\n",
      "<_io.BufferedWriter name='/home/anorak/Desktop/MIND-PALACE/SIH_Project-main/pdfdata/refactor-files/document-page6.pdf'>\n",
      "<_io.BufferedWriter name='/home/anorak/Desktop/MIND-PALACE/SIH_Project-main/pdfdata/refactor-files/document-page7.pdf'>\n"
     ]
    }
   ],
   "source": [
    "from PyPDF2 import PdfFileWriter, PdfFileReader\n",
    "import natsort\n",
    "inputpdf = PdfFileReader(open(\"/home/anorak/Desktop/MIND-PALACE/SIH_Project-main/pdfdata/PyPDF2.pdf\", \"rb\"))\n",
    "for i in range(inputpdf.numPages):\n",
    "    output = PdfFileWriter()\n",
    "    output.addPage(inputpdf.getPage(i))\n",
    "    with open(\"/home/anorak/Desktop/MIND-PALACE/SIH_Project-main/pdfdata/refactor-files/document-page%s.pdf\" % i, \"wb\") as outputStream:\n",
    "        print(outputStream)\n",
    "        output.write(outputStream)"
   ]
  },
  {
   "cell_type": "code",
   "execution_count": 15,
   "metadata": {},
   "outputs": [],
   "source": [
    "import glob, sys, fitz\n",
    "import img2pdf\n",
    "from PIL import Image\n",
    "import os"
   ]
  },
  {
   "cell_type": "code",
   "execution_count": 16,
   "metadata": {},
   "outputs": [
    {
     "name": "stdout",
     "output_type": "stream",
     "text": [
      "['/home/anorak/Desktop/MIND-PALACE/SIH_Project-main/pdfdata/refactor-files/document-page0.pdf', '/home/anorak/Desktop/MIND-PALACE/SIH_Project-main/pdfdata/refactor-files/document-page1.pdf', '/home/anorak/Desktop/MIND-PALACE/SIH_Project-main/pdfdata/refactor-files/document-page2.pdf', '/home/anorak/Desktop/MIND-PALACE/SIH_Project-main/pdfdata/refactor-files/document-page3.pdf', '/home/anorak/Desktop/MIND-PALACE/SIH_Project-main/pdfdata/refactor-files/document-page4.pdf', '/home/anorak/Desktop/MIND-PALACE/SIH_Project-main/pdfdata/refactor-files/document-page5.pdf', '/home/anorak/Desktop/MIND-PALACE/SIH_Project-main/pdfdata/refactor-files/document-page6.pdf', '/home/anorak/Desktop/MIND-PALACE/SIH_Project-main/pdfdata/refactor-files/document-page7.pdf']\n",
      "/home/anorak/Desktop/MIND-PALACE/SIH_Project-main/pdfdata/refactor-files/document-page0.pdf\n",
      "/home/anorak/Desktop/MIND-PALACE/SIH_Project-main/pdfdata/refactor-files/document-page1.pdf\n",
      "/home/anorak/Desktop/MIND-PALACE/SIH_Project-main/pdfdata/refactor-files/document-page2.pdf\n",
      "/home/anorak/Desktop/MIND-PALACE/SIH_Project-main/pdfdata/refactor-files/document-page3.pdf\n",
      "/home/anorak/Desktop/MIND-PALACE/SIH_Project-main/pdfdata/refactor-files/document-page4.pdf\n",
      "/home/anorak/Desktop/MIND-PALACE/SIH_Project-main/pdfdata/refactor-files/document-page5.pdf\n",
      "/home/anorak/Desktop/MIND-PALACE/SIH_Project-main/pdfdata/refactor-files/document-page6.pdf\n",
      "/home/anorak/Desktop/MIND-PALACE/SIH_Project-main/pdfdata/refactor-files/document-page7.pdf\n"
     ]
    }
   ],
   "source": [
    "zoom_x = 2.0 \n",
    "zoom_y = 2.0  \n",
    "mat = fitz.Matrix(zoom_x, zoom_y) \n",
    "path = '/home/anorak/Desktop/MIND-PALACE/SIH_Project-main/pdfdata/refactor-files/'\n",
    "all_files = glob.glob(path + \"*.pdf\")\n",
    "all_files = natsort.natsorted(all_files, reverse=False)\n",
    "print(all_files)\n",
    "for filename in all_files:\n",
    "    print(filename)\n",
    "    doc = fitz.open(filename) \n",
    "    for page in doc: \n",
    "        pix = page.get_pixmap(matrix=mat)  \n",
    "        pix.save(\"/home/anorak/Desktop/MIND-PALACE/SIH_Project-main/pdfdata/page-%i.png\" % page.number)"
   ]
  },
  {
   "cell_type": "code",
   "execution_count": 17,
   "metadata": {},
   "outputs": [],
   "source": [
    "path_img = '/home/anorak/Desktop/MIND-PALACE/SIH_Project-main/pdfdata/'\n",
    "image_glob = natsort.natsorted(glob.glob(path + \"*.png\"), reverse=False)\n",
    "path_topdf = '/home/anorak/Desktop/MIND-PALACE/SIH_Project-main/pdfdata/compressed/'\n",
    "pdf_glob = natsort.natsorted(glob.glob(path_topdf + \"*.png\"))\n",
    "comp_pdf = natsort.natsorted(glob.glob(path_topdf+\"*.pdf\"))"
   ]
  },
  {
   "cell_type": "code",
   "execution_count": 18,
   "metadata": {},
   "outputs": [],
   "source": [
    "count = 0\n",
    "for filename in image_glob:\n",
    "    print(filename)\n",
    "    count = count+1\n",
    "    compressed_img = compressPNG(filename, \"/home/anorak/Desktop/MIND-PALACE/SIH_Project-main/pdfdata/compressed/\"+ str(count) + \".png\")\n"
   ]
  },
  {
   "cell_type": "code",
   "execution_count": 19,
   "metadata": {},
   "outputs": [],
   "source": [
    "from PyPDF2 import PdfMerger"
   ]
  },
  {
   "cell_type": "code",
   "execution_count": 20,
   "metadata": {},
   "outputs": [
    {
     "name": "stdout",
     "output_type": "stream",
     "text": [
      "/home/anorak/Desktop/MIND-PALACE/SIH_Project-main/pdfdata/compressed/1.png\n",
      "Successfully made pdf file\n",
      "/home/anorak/Desktop/MIND-PALACE/SIH_Project-main/pdfdata/compressed/2.png\n",
      "Successfully made pdf file\n",
      "/home/anorak/Desktop/MIND-PALACE/SIH_Project-main/pdfdata/compressed/3.png\n",
      "Successfully made pdf file\n",
      "/home/anorak/Desktop/MIND-PALACE/SIH_Project-main/pdfdata/compressed/4.png\n",
      "Successfully made pdf file\n",
      "/home/anorak/Desktop/MIND-PALACE/SIH_Project-main/pdfdata/compressed/5.png\n",
      "Successfully made pdf file\n",
      "/home/anorak/Desktop/MIND-PALACE/SIH_Project-main/pdfdata/compressed/6.png\n",
      "Successfully made pdf file\n",
      "/home/anorak/Desktop/MIND-PALACE/SIH_Project-main/pdfdata/compressed/7.png\n",
      "Successfully made pdf file\n",
      "/home/anorak/Desktop/MIND-PALACE/SIH_Project-main/pdfdata/compressed/8.png\n",
      "Successfully made pdf file\n"
     ]
    }
   ],
   "source": [
    "counter = 0\n",
    "for filename in pdf_glob:\n",
    "    print(filename)\n",
    "    counter = counter + 1\n",
    "    image = Image.open(filename)\n",
    "    pdf_bytes = img2pdf.convert(image.filename)\n",
    "    file = open('/home/anorak/Desktop/MIND-PALACE/SIH_Project-main/pdfdata/compressed/comp_pdf' + str(counter) + '.pdf', \"wb\")\n",
    "    file.write(pdf_bytes)\n",
    "    image.close()\n",
    "    file.close()\n",
    "    print(\"Successfully made pdf file\")\n",
    "    \n",
    "merger = PdfMerger()\n",
    "\n",
    "for filename in comp_pdf:\n",
    "    merger.append(filename)\n",
    "merger.write(\"result.pdf\")\n",
    "merger.close()"
   ]
  },
  {
   "cell_type": "code",
   "execution_count": null,
   "metadata": {},
   "outputs": [],
   "source": []
  }
 ],
 "metadata": {
  "kernelspec": {
   "display_name": "Python 3.10.4 64-bit",
   "language": "python",
   "name": "python3"
  },
  "language_info": {
   "codemirror_mode": {
    "name": "ipython",
    "version": 3
   },
   "file_extension": ".py",
   "mimetype": "text/x-python",
   "name": "python",
   "nbconvert_exporter": "python",
   "pygments_lexer": "ipython3",
   "version": "3.10.4"
  },
  "orig_nbformat": 4,
  "vscode": {
   "interpreter": {
    "hash": "916dbcbb3f70747c44a77c7bcd40155683ae19c65e1c03b4aa3499c5328201f1"
   }
  }
 },
 "nbformat": 4,
 "nbformat_minor": 2
}
