{
 "cells": [
  {
   "cell_type": "code",
   "execution_count": 1,
   "metadata": {},
   "outputs": [],
   "source": [
    "import os\n",
    "from PIL import Image\n",
    "import soundfile as sf\n",
    "from pydub import AudioSegment\n",
    "import numpy as np\n",
    "import cv2\n",
    "import ffmpeg\n",
    "import uuid\n",
    "import base64\n",
    "from ipywidgets import FileUpload\n",
    "from cryptography.fernet import Fernet\n",
    "from cryptography.hazmat.primitives import hashes\n",
    "from cryptography.hazmat.primitives.kdf.pbkdf2 import PBKDF2HMAC"
   ]
  },
  {
   "cell_type": "code",
   "execution_count": 13,
   "metadata": {},
   "outputs": [],
   "source": [
    "def compressPNG(origfile, newfile):\n",
    "    img=Image.open(origfile)\n",
    "    img=img.convert(\"P\", palette=Image.ADAPTIVE, colors=256)\n",
    "    img.save(newfile, optimize=True)"
   ]
  },
  {
   "cell_type": "code",
   "execution_count": 19,
   "metadata": {},
   "outputs": [
    {
     "name": "stderr",
     "output_type": "stream",
     "text": [
      "/tmp/ipykernel_15863/3065701223.py:3: DeprecationWarning: ADAPTIVE is deprecated and will be removed in Pillow 10 (2023-07-01). Use Palette.ADAPTIVE instead.\n",
      "  img=img.convert(\"P\", palette=Image.ADAPTIVE, colors=256)\n"
     ]
    }
   ],
   "source": [
    "result = compressPNG('/home/anorak/Desktop/MIND-PALACE/SIH_Project-main/pdfdata/page-0.png','/home/anorak/Desktop/MIND-PALACE/SIH_Project-main/pdfdata/compressed.png')"
   ]
  },
  {
   "cell_type": "code",
   "execution_count": 13,
   "metadata": {},
   "outputs": [
    {
     "name": "stdout",
     "output_type": "stream",
     "text": [
      "Defaulting to user installation because normal site-packages is not writeable\n",
      "Requirement already satisfied: PyMuPDF in /home/anorak/.local/lib/python3.10/site-packages (1.20.2)\n",
      "Note: you may need to restart the kernel to use updated packages.\n"
     ]
    }
   ],
   "source": [
    "pip install PyMuPDF"
   ]
  },
  {
   "cell_type": "code",
   "execution_count": 3,
   "metadata": {},
   "outputs": [],
   "source": [
    "import glob, sys, fitz\n",
    "import img2pdf\n",
    "from PIL import Image\n",
    "import os\n",
    "\n",
    "zoom_x = 2.0 \n",
    "zoom_y = 2.0  \n",
    "mat = fitz.Matrix(zoom_x, zoom_y) \n",
    "path = '/home/anorak/Desktop/MIND-PALACE/SIH_Project-main/pdfdata/'\n",
    "all_files = glob.glob(path + \"*.pdf\")\n",
    "for filename in all_files:\n",
    "    doc = fitz.open(filename) \n",
    "    for page in doc: \n",
    "        pix = page.get_pixmap(matrix=mat)  \n",
    "        pix.save(\"/home/anorak/Desktop/MIND-PALACE/SIH_Project-main/pdfdata/page-%i.png\" % page.number)\n",
    "\n",
    "img_path = \"/home/anorak/Desktop/MIND-PALACE/SIH_Project-main/pdfdata/compressed.png\"\n",
    "pdf_path = \"/home/anorak/Desktop/MIND-PALACE/SIH_Project-main/pdfdata/compressed.pdf\"\n",
    "image = Image.open(img_path)\n",
    "pdf_bytes = img2pdf.convert(image.filename)\n",
    "file = open(pdf_path, \"wb\")\n",
    "file.write(pdf_bytes)\n",
    "image.close()\n",
    "file.close()\n",
    "print(\"Successfully made pdf file\")\n"
   ]
  },
  {
   "cell_type": "code",
   "execution_count": 4,
   "metadata": {},
   "outputs": [],
   "source": [
    "from PyPDF2 import PdfFileWriter, PdfFileReader\n",
    "\n",
    "inputpdf = PdfFileReader(open(\"/home/anorak/Desktop/MIND-PALACE/SIH_Project-main/pdfdata/PyPDF2.pdf\", \"rb\"))\n",
    "\n",
    "for i in range(inputpdf.numPages):\n",
    "    output = PdfFileWriter()\n",
    "    output.addPage(inputpdf.getPage(i))\n",
    "    with open(\"/home/anorak/Desktop/MIND-PALACE/SIH_Project-main/pdfdata/splite_data/document-page%s.pdf\" % i, \"wb\") as outputStream:\n",
    "        output.write(outputStream)"
   ]
  },
  {
   "cell_type": "code",
   "execution_count": 37,
   "metadata": {},
   "outputs": [
    {
     "name": "stdout",
     "output_type": "stream",
     "text": [
      "<class 'list'>\n",
      "['/home/anorak/Desktop/MIND-PALACE/SIH_Project-main/pdfdata/compressed/3.png', '/home/anorak/Desktop/MIND-PALACE/SIH_Project-main/pdfdata/compressed/7.png', '/home/anorak/Desktop/MIND-PALACE/SIH_Project-main/pdfdata/compressed/4.png', '/home/anorak/Desktop/MIND-PALACE/SIH_Project-main/pdfdata/compressed/5.png', '/home/anorak/Desktop/MIND-PALACE/SIH_Project-main/pdfdata/compressed/2.png', '/home/anorak/Desktop/MIND-PALACE/SIH_Project-main/pdfdata/compressed/1.png', '/home/anorak/Desktop/MIND-PALACE/SIH_Project-main/pdfdata/compressed/8.png', '/home/anorak/Desktop/MIND-PALACE/SIH_Project-main/pdfdata/compressed/6.png']\n",
      "/home/anorak/Desktop/MIND-PALACE/SIH_Project-main/pdfdata/page-0.png\n"
     ]
    },
    {
     "name": "stderr",
     "output_type": "stream",
     "text": [
      "/tmp/ipykernel_38717/3065701223.py:3: DeprecationWarning: ADAPTIVE is deprecated and will be removed in Pillow 10 (2023-07-01). Use Palette.ADAPTIVE instead.\n",
      "  img=img.convert(\"P\", palette=Image.ADAPTIVE, colors=256)\n"
     ]
    },
    {
     "name": "stdout",
     "output_type": "stream",
     "text": [
      "/home/anorak/Desktop/MIND-PALACE/SIH_Project-main/pdfdata/page-1.png\n",
      "/home/anorak/Desktop/MIND-PALACE/SIH_Project-main/pdfdata/page-2.png\n",
      "/home/anorak/Desktop/MIND-PALACE/SIH_Project-main/pdfdata/page-3.png\n",
      "/home/anorak/Desktop/MIND-PALACE/SIH_Project-main/pdfdata/page-4.png\n",
      "/home/anorak/Desktop/MIND-PALACE/SIH_Project-main/pdfdata/page-5.png\n",
      "/home/anorak/Desktop/MIND-PALACE/SIH_Project-main/pdfdata/page-6.png\n",
      "/home/anorak/Desktop/MIND-PALACE/SIH_Project-main/pdfdata/page-7.png\n"
     ]
    }
   ],
   "source": [
    "import glob, sys, fitz\n",
    "import img2pdf\n",
    "from PIL import Image\n",
    "import os\n",
    "\n",
    "zoom_x = 2.0 \n",
    "zoom_y = 2.0  \n",
    "mat = fitz.Matrix(zoom_x, zoom_y) \n",
    "path = '/home/anorak/Desktop/MIND-PALACE/SIH_Project-main/pdfdata/'\n",
    "all_files = glob.glob(path + \"*.pdf\")\n",
    "for filename in all_files:\n",
    "    doc = fitz.open(filename) \n",
    "    for page in doc: \n",
    "        pix = page.get_pixmap(matrix=mat)  \n",
    "        pix.save(\"/home/anorak/Desktop/MIND-PALACE/SIH_Project-main/pdfdata/page-%i.png\" % page.number)\n",
    "\n",
    "\n",
    "path_img = '/home/anorak/Desktop/MIND-PALACE/SIH_Project-main/pdfdata/'\n",
    "image_glob = glob.glob(path + \"*.png\")\n",
    "path_topdf = '/home/anorak/Desktop/MIND-PALACE/SIH_Project-main/pdfdata/compressed/'\n",
    "pdf_glob = glob.glob(path_topdf + \"*.png\")\n",
    "comp_pdf = glob.glob(path_topdf+\"*.pdf\")\n",
    "print(type(image_glob))\n",
    "print(pdf_glob)\n",
    "count = 0\n",
    "\n",
    "import natsort\n",
    "\n",
    "image_glob = natsort.natsorted(image_glob,reverse=False)\n",
    "\n",
    "for filename in image_glob:\n",
    "    print(filename)\n",
    "    count = count+1\n",
    "    compressed_img = compressPNG(filename, \"/home/anorak/Desktop/MIND-PALACE/SIH_Project-main/pdfdata/compressed/\"+ str(count) + \".png\")\n",
    "\n",
    "\n",
    "    \n"
   ]
  },
  {
   "cell_type": "code",
   "execution_count": 21,
   "metadata": {},
   "outputs": [],
   "source": [
    "from PyPDF2 import PdfMerger"
   ]
  },
  {
   "cell_type": "code",
   "execution_count": null,
   "metadata": {},
   "outputs": [],
   "source": []
  },
  {
   "cell_type": "code",
   "execution_count": 38,
   "metadata": {},
   "outputs": [
    {
     "name": "stdout",
     "output_type": "stream",
     "text": [
      "/home/anorak/Desktop/MIND-PALACE/SIH_Project-main/pdfdata/compressed/3.png\n",
      "Successfully made pdf file\n",
      "/home/anorak/Desktop/MIND-PALACE/SIH_Project-main/pdfdata/compressed/7.png\n",
      "Successfully made pdf file\n",
      "/home/anorak/Desktop/MIND-PALACE/SIH_Project-main/pdfdata/compressed/4.png\n",
      "Successfully made pdf file\n",
      "/home/anorak/Desktop/MIND-PALACE/SIH_Project-main/pdfdata/compressed/5.png\n",
      "Successfully made pdf file\n",
      "/home/anorak/Desktop/MIND-PALACE/SIH_Project-main/pdfdata/compressed/2.png\n",
      "Successfully made pdf file\n",
      "/home/anorak/Desktop/MIND-PALACE/SIH_Project-main/pdfdata/compressed/1.png\n",
      "Successfully made pdf file\n",
      "/home/anorak/Desktop/MIND-PALACE/SIH_Project-main/pdfdata/compressed/8.png\n",
      "Successfully made pdf file\n",
      "/home/anorak/Desktop/MIND-PALACE/SIH_Project-main/pdfdata/compressed/6.png\n",
      "Successfully made pdf file\n"
     ]
    }
   ],
   "source": [
    "counter = 0\n",
    "for filename in pdf_glob:\n",
    "    print(filename)\n",
    "    counter = counter + 1\n",
    "    image = Image.open(filename)\n",
    "    pdf_bytes = img2pdf.convert(image.filename)\n",
    "    file = open('/home/anorak/Desktop/MIND-PALACE/SIH_Project-main/pdfdata/compressed/comp_pdf' + str(counter) + '.pdf', \"wb\")\n",
    "    file.write(pdf_bytes)\n",
    "    image.close()\n",
    "    file.close()\n",
    "    print(\"Successfully made pdf file\")\n",
    "    \n",
    "merger = PdfMerger()\n",
    "\n",
    "for filename in comp_pdf:\n",
    "    merger.append(filename)\n",
    "merger.write(\"result.pdf\")\n",
    "merger.close()"
   ]
  },
  {
   "cell_type": "code",
   "execution_count": null,
   "metadata": {},
   "outputs": [],
   "source": []
  }
 ],
 "metadata": {
  "kernelspec": {
   "display_name": "Python 3.10.4 64-bit",
   "language": "python",
   "name": "python3"
  },
  "language_info": {
   "codemirror_mode": {
    "name": "ipython",
    "version": 3
   },
   "file_extension": ".py",
   "mimetype": "text/x-python",
   "name": "python",
   "nbconvert_exporter": "python",
   "pygments_lexer": "ipython3",
   "version": "3.10.4"
  },
  "orig_nbformat": 4,
  "vscode": {
   "interpreter": {
    "hash": "916dbcbb3f70747c44a77c7bcd40155683ae19c65e1c03b4aa3499c5328201f1"
   }
  }
 },
 "nbformat": 4,
 "nbformat_minor": 2
}
