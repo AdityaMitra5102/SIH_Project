{
  "nbformat": 4,
  "nbformat_minor": 0,
  "metadata": {
    "colab": {
      "name": "Untitled1.ipynb",
      "provenance": [],
      "collapsed_sections": []
    },
    "kernelspec": {
      "name": "python3",
      "display_name": "Python 3"
    },
    "language_info": {
      "name": "python"
    }
  },
  "cells": [
    {
      "cell_type": "code",
      "source": [
        "!pip3 install pillow pydub soundfile numpy opencv-python opencv-contrib-python uuid amodem ffmpeg-python cryptography\n",
        "\n"
      ],
      "metadata": {
        "colab": {
          "base_uri": "https://localhost:8080/"
        },
        "id": "1MEWJWb1FuTH",
        "outputId": "5c8cc204-fbba-4008-dd86-f2fdc777eeaf"
      },
      "execution_count": 17,
      "outputs": [
        {
          "output_type": "stream",
          "name": "stdout",
          "text": [
            "Looking in indexes: https://pypi.org/simple, https://us-python.pkg.dev/colab-wheels/public/simple/\n",
            "Requirement already satisfied: pillow in /usr/local/lib/python3.7/dist-packages (7.1.2)\n",
            "Requirement already satisfied: pydub in /usr/local/lib/python3.7/dist-packages (0.25.1)\n",
            "Requirement already satisfied: soundfile in /usr/local/lib/python3.7/dist-packages (0.10.3.post1)\n",
            "Requirement already satisfied: numpy in /usr/local/lib/python3.7/dist-packages (1.21.6)\n",
            "Requirement already satisfied: opencv-python in /usr/local/lib/python3.7/dist-packages (4.6.0.66)\n",
            "Requirement already satisfied: opencv-contrib-python in /usr/local/lib/python3.7/dist-packages (4.6.0.66)\n",
            "Requirement already satisfied: uuid in /usr/local/lib/python3.7/dist-packages (1.30)\n",
            "Requirement already satisfied: amodem in /usr/local/lib/python3.7/dist-packages (1.15.3)\n",
            "Requirement already satisfied: ffmpeg-python in /usr/local/lib/python3.7/dist-packages (0.2.0)\n",
            "Requirement already satisfied: cryptography in /usr/local/lib/python3.7/dist-packages (37.0.4)\n",
            "Requirement already satisfied: cffi>=1.0 in /usr/local/lib/python3.7/dist-packages (from soundfile) (1.15.1)\n",
            "Requirement already satisfied: pycparser in /usr/local/lib/python3.7/dist-packages (from cffi>=1.0->soundfile) (2.21)\n",
            "Requirement already satisfied: future in /usr/local/lib/python3.7/dist-packages (from ffmpeg-python) (0.16.0)\n"
          ]
        }
      ]
    },
    {
      "cell_type": "code",
      "execution_count": 18,
      "metadata": {
        "id": "C-6Ku3zEDzpA"
      },
      "outputs": [],
      "source": [
        "import os\n",
        "from PIL import Image\n",
        "import soundfile as sf\n",
        "from pydub import AudioSegment\n",
        "import numpy as np\n",
        "import cv2\n",
        "import ffmpeg\n",
        "import uuid\n",
        "import base64\n",
        "from ipywidgets import FileUpload\n"
      ]
    },
    {
      "cell_type": "code",
      "source": [
        "def compressPNG(origfile, newfile):\n",
        "    img=Image.open(origfile)\n",
        "    img=img.convert(\"P\", palette=Image.ADAPTIVE, colors=256)\n",
        "    img.save(newfile, optimize=True)\n",
        "\n",
        "def compressJPEG(origfile,newfile):\n",
        "    img=Image.open(origfile)\n",
        "    if img.mode == \"JPEG\":\n",
        "        img.save(newfile)\n",
        "    else:\n",
        "        rgb_im = img.convert(\"RGB\")\n",
        "        rgb_im.save(newfile)\n",
        "\n",
        "\n",
        "def compressVid(origfile,newfile):\n",
        "    print(\"Compressing vid\")\n",
        "    os.system(f'ffmpeg -i {origfile} -vf \"scale=trunc(iw/4)*2:trunc(ih/4)*2\" -c:v libx265 -crf 28 {newfile}')\n",
        "\n",
        "def compressWAV(origfile, newfile):\n",
        "    data, samplerate=sf.read(origfile)\n",
        "    n=len(data)\n",
        "    Fs=samplerate\n",
        "    ch1=np.array([data[i][0] for i in range(n)])\n",
        "    ch2=np.array([data[i][1] for i in range(n)])\n",
        "    ch1_Fourier=np.fft.fft(ch1)\n",
        "    abs_ch1_Fourier=np.absolute(ch1_Fourier[:n//2])\n",
        "    eps=1e-5\n",
        "    frequenciesToRemove = (1-eps) * np.sum(abs_ch1_Fourier) < np.cumsum(abs_ch1_Fourier)\n",
        "    f0=(len(frequenciesToRemove)- np.sum(frequenciesToRemove))*(Fs/2)/(n/2)\n",
        "    D=int(Fs/f0)\n",
        "    new_data=data[::D,:]\n",
        "    sf.write(newfile, new_data, int(Fs/D), 'PCM_16')\n",
        "\n",
        "\n",
        "def compressMP3(origfile, newfile):\n",
        "    tempname1=str(uuid.uuid4())+\".wav\"\n",
        "    tempname2=str(uuid.uuid4())+\".wav\"\n",
        "    audio=AudioSegment.from_mp3(origfile)\n",
        "    audio.export(tempname1, format=\"wav\")\n",
        "    compressWAV(tempname1, tempname2)\n",
        "    audio2=AudioSegment.from_wav(tempname2)\n",
        "    audio2.export(newfile, format=\"mp3\")\n",
        "    os.remove(tempname1)\n",
        "    os.remove(tempname2)\n",
        "\n",
        "def compressOthers(origfile,newfile): #No compression\n",
        "    f1=open(origfile,'rb').read()\n",
        "    f2=open(newfile,'wb')\n",
        "    f2.write(f1)\n",
        "    f2.close()\n",
        "\n"
      ],
      "metadata": {
        "id": "1nWLREI4GZpA"
      },
      "execution_count": 19,
      "outputs": []
    },
    {
      "cell_type": "code",
      "source": [],
      "metadata": {
        "id": "27mh42CLon_F"
      },
      "execution_count": null,
      "outputs": []
    },
    {
      "cell_type": "code",
      "source": [
        "\n",
        "global fln\n",
        "fln='A1.jpg'\n",
        "\n",
        "\n",
        "def file_compress(fln):\n",
        "    ext=os.path.splitext(fln)[1]\n",
        "    newname=str(uuid.uuid4())+ext\n",
        "    if ext=='.png' or ext == '.PNG':\n",
        "        compressPNG(fln, newname)\n",
        "    elif ext=='.jpg' or ext=='.JPG' or ext=='.JPEG' or ext=='.jpeg':\n",
        "        compressJPEG(fln,newname)\n",
        "    elif ext=='.mp4' or ext=='.MP4':\n",
        "        compressVid(fln, newname)\n",
        "    elif ext=='.wav' or ext=='.WAV':\n",
        "        compressWAV(fln, newname)\n",
        "    elif ext=='.mp3' or ext=='.MP3':\n",
        "        compressMP3(fln,newname)\n",
        "    else:\n",
        "        compressOthers(fln,newname)\n",
        "    file = open(newname, 'rb')\n",
        "    file_content = file.read()\n",
        "    file.close()\n",
        "    os.remove(newname)\n",
        "    return file_content\n",
        "\n",
        "\n",
        "\n",
        "def no_compress(fln):\n",
        "    file = open(fln, 'rb')\n",
        "    file_content = file.read()\n",
        "    file.close()\n",
        "    return file_content\n",
        "\n",
        "compress=True\n",
        "\n",
        "fl1=no_compress(fln)\n",
        "%timeit fl2=file_compress(fln)\n",
        "\n",
        "import sys\n",
        "print(sys.getsizeof(fl1), sys.getsizeof(fl2))"
      ],
      "metadata": {
        "colab": {
          "base_uri": "https://localhost:8080/"
        },
        "id": "VUysmm3IEFp2",
        "outputId": "61c0f568-948a-48ec-f526-7f4ac1952045"
      },
      "execution_count": 20,
      "outputs": [
        {
          "output_type": "stream",
          "name": "stdout",
          "text": [
            "796 ms ± 11.6 ms per loop (mean ± std. dev. of 7 runs, 1 loop each)\n",
            "5064692 701980\n"
          ]
        }
      ]
    },
    {
      "cell_type": "code",
      "source": [],
      "metadata": {
        "id": "WM6CRhPyD4xX"
      },
      "execution_count": null,
      "outputs": []
    }
  ]
}