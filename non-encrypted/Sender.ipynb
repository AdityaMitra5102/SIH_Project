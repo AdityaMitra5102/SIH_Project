{
 "cells": [
  {
   "cell_type": "markdown",
   "id": "c85b723e",
   "metadata": {},
   "source": [
    "Installing dependencies"
   ]
  },
  {
   "cell_type": "code",
   "execution_count": null,
   "id": "59c024c2",
   "metadata": {},
   "outputs": [],
   "source": [
    "#This wont run from jupyter. So run this on terminal\n",
    "#sudo apt-get install python3 python3-dev python3-numpy python3-pip portaudio19-dev git"
   ]
  },
  {
   "cell_type": "code",
   "execution_count": null,
   "id": "2f51bc8d",
   "metadata": {},
   "outputs": [],
   "source": [
    "!pip3 install amodem uuid"
   ]
  },
  {
   "cell_type": "markdown",
   "id": "e81ed026",
   "metadata": {},
   "source": [
    "Importing necessary libraries"
   ]
  },
  {
   "cell_type": "code",
   "execution_count": null,
   "id": "99e01af9",
   "metadata": {},
   "outputs": [],
   "source": [
    "import os\n",
    "import uuid\n",
    "from ipywidgets import FileUpload\n",
    "import base64\n",
    "from cryptography.fernet import Fernet"
   ]
  },
  {
   "cell_type": "markdown",
   "id": "81e5130a",
   "metadata": {},
   "source": [
    "Setting bitrate for 2kbps"
   ]
  },
  {
   "cell_type": "code",
   "execution_count": null,
   "id": "480884e5",
   "metadata": {},
   "outputs": [],
   "source": [
    "def setBitrate():\n",
    "    os.environ['BITRATE']='16'"
   ]
  },
  {
   "cell_type": "code",
   "execution_count": null,
   "id": "b9a9187c",
   "metadata": {},
   "outputs": [],
   "source": [
    "setBitrate()"
   ]
  },
  {
   "cell_type": "markdown",
   "id": "b13fb170",
   "metadata": {},
   "source": [
    " Calibration"
   ]
  },
  {
   "cell_type": "markdown",
   "id": "3a208414",
   "metadata": {},
   "source": [
    "Check audio output device"
   ]
  },
  {
   "cell_type": "code",
   "execution_count": null,
   "id": "76c776f8",
   "metadata": {},
   "outputs": [],
   "source": [
    "!amodem send --calibrate"
   ]
  },
  {
   "cell_type": "markdown",
   "id": "3af42ac0",
   "metadata": {},
   "source": [
    "Interrupt the kernel when calibration is done"
   ]
  },
  {
   "cell_type": "code",
   "execution_count": null,
   "id": "38ffb27e",
   "metadata": {},
   "outputs": [],
   "source": [
    "#Variable for filename\n",
    "global fln\n",
    "fln=''"
   ]
  },
  {
   "cell_type": "markdown",
   "id": "1b32f581",
   "metadata": {},
   "source": [
    "Handle upload"
   ]
  },
  {
   "cell_type": "code",
   "execution_count": null,
   "id": "ebb21bbb",
   "metadata": {
    "scrolled": true
   },
   "outputs": [],
   "source": [
    "def on_upload_change(change):\n",
    "    global fln\n",
    "    if not change.new:\n",
    "        return\n",
    "    up = change.owner\n",
    "    for filename,data in up.value.items():\n",
    "        with open(filename, 'wb') as f:\n",
    "            fln=filename\n",
    "            f.write(data['content'])\n",
    "    up.value.clear()\n",
    "    up._counter = 0\n",
    "\n",
    "upload_btn = FileUpload()\n",
    "upload_btn.observe(on_upload_change, names='_counter')\n",
    "upload_btn\n"
   ]
  },
  {
   "cell_type": "code",
   "execution_count": null,
   "id": "7d297a4e",
   "metadata": {},
   "outputs": [],
   "source": [
    "print(\"Filename: \"+fln)"
   ]
  },
  {
   "cell_type": "code",
   "execution_count": null,
   "id": "60259d7a",
   "metadata": {},
   "outputs": [],
   "source": [
    "file = open(fln, 'rb')\n",
    "file_content = file.read()\n",
    "file.close()"
   ]
  },
  {
   "cell_type": "markdown",
   "id": "3ef245fb",
   "metadata": {},
   "source": [
    "Generate metadata: Filename and its length"
   ]
  },
  {
   "cell_type": "code",
   "execution_count": null,
   "id": "b4c9de56",
   "metadata": {},
   "outputs": [],
   "source": [
    "flnlen=len(fln).to_bytes(1,byteorder='big')\n",
    "metadata=flnlen+fln.encode()\n",
    "data=metadata+file_content"
   ]
  },
  {
   "cell_type": "code",
   "execution_count": null,
   "id": "d53822e5",
   "metadata": {},
   "outputs": [],
   "source": [
    "data"
   ]
  },
  {
   "cell_type": "code",
   "execution_count": null,
   "id": "d748281d",
   "metadata": {},
   "outputs": [],
   "source": [
    "tempdata=data"
   ]
  },
  {
   "cell_type": "markdown",
   "id": "a6cc8ef3",
   "metadata": {},
   "source": [
    "Combine metadata and data and write to a temporary file"
   ]
  },
  {
   "cell_type": "code",
   "execution_count": null,
   "id": "185902bc",
   "metadata": {},
   "outputs": [],
   "source": [
    "tempname=str(uuid.uuid4())\n",
    "with open(tempname, 'wb') as f:\n",
    "    f.write(tempdata)\n",
    "os.environ['tempname']=tempname"
   ]
  },
  {
   "cell_type": "code",
   "execution_count": null,
   "id": "e54a6e6b",
   "metadata": {},
   "outputs": [],
   "source": [
    "tempname"
   ]
  },
  {
   "cell_type": "code",
   "execution_count": null,
   "id": "0f08bee3",
   "metadata": {},
   "outputs": [],
   "source": [
    "tempsize = os.path.getsize(tempname)\n",
    "print(f\"Attempting to send {tempsize} bytes\")\n",
    "print(\"Make sure receiver is listening\")"
   ]
  },
  {
   "cell_type": "markdown",
   "id": "0f01096e",
   "metadata": {},
   "source": [
    "Sending"
   ]
  },
  {
   "cell_type": "code",
   "execution_count": null,
   "id": "cbb75a3a",
   "metadata": {},
   "outputs": [],
   "source": [
    "!echo $BITRATE"
   ]
  },
  {
   "cell_type": "code",
   "execution_count": null,
   "id": "0a1436e6",
   "metadata": {},
   "outputs": [],
   "source": [
    "!amodem send -vv -i $tempname"
   ]
  },
  {
   "cell_type": "markdown",
   "id": "26040d87",
   "metadata": {},
   "source": [
    "Cleanup: Delete temporary file and uploaded file"
   ]
  },
  {
   "cell_type": "code",
   "execution_count": null,
   "id": "217c4a2f",
   "metadata": {},
   "outputs": [],
   "source": [
    "os.remove(fln)\n",
    "os.remove(tempname)"
   ]
  }
 ],
 "metadata": {
  "kernelspec": {
   "display_name": "Python 3",
   "language": "python",
   "name": "python3"
  },
  "language_info": {
   "codemirror_mode": {
    "name": "ipython",
    "version": 3
   },
   "file_extension": ".py",
   "mimetype": "text/x-python",
   "name": "python",
   "nbconvert_exporter": "python",
   "pygments_lexer": "ipython3",
   "version": "3.6.9"
  }
 },
 "nbformat": 4,
 "nbformat_minor": 5
}
