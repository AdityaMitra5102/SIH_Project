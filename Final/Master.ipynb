{
 "cells": [
  {
   "cell_type": "markdown",
   "id": "ae3855a3",
   "metadata": {},
   "source": [
    "# Run the below cell to start"
   ]
  },
  {
   "cell_type": "code",
   "execution_count": null,
   "id": "27ed4ed8",
   "metadata": {},
   "outputs": [],
   "source": [
    "from IPython.display import display, FileLink\n",
    "import IPython\n",
    "sender = FileLink(\"Sender.ipynb\", result_html_prefix=\"<H1>Sender application</H1>\")\n",
    "display(sender)\n",
    "sender = FileLink(\"Receiver.ipynb\", result_html_prefix=\"<H1>Receiver application</H1>\")\n",
    "display(sender)\n",
    "html=\"<iframe src='https://view.officeapps.live.com/op/embed.aspx?src=https://adityamitra5102.github.io/SIH_Project/Final/Hustlers_VIT.pptx' width='900px' height='600px' frameborder='0'></iframe>\"\n",
    "IPython.display.HTML(html)"
   ]
  }
 ],
 "metadata": {
  "kernelspec": {
   "display_name": "Python 3",
   "language": "python",
   "name": "python3"
  },
  "language_info": {
   "codemirror_mode": {
    "name": "ipython",
    "version": 3
   },
   "file_extension": ".py",
   "mimetype": "text/x-python",
   "name": "python",
   "nbconvert_exporter": "python",
   "pygments_lexer": "ipython3",
   "version": "3.6.9"
  }
 },
 "nbformat": 4,
 "nbformat_minor": 5
}
