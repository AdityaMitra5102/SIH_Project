{
 "cells": [
  {
   "cell_type": "code",
   "execution_count": 4,
   "id": "27ed4ed8",
   "metadata": {},
   "outputs": [
    {
     "data": {
      "text/html": [
       "<H1>Sender application</H1><a href='Sender.ipynb' target='_blank'>Sender.ipynb</a><br>"
      ],
      "text/plain": [
       "/home/cryptane/SIH/Final/Sender.ipynb"
      ]
     },
     "metadata": {},
     "output_type": "display_data"
    },
    {
     "data": {
      "text/html": [
       "<H1>Receiver application</H1><a href='Receiver.ipynb' target='_blank'>Receiver.ipynb</a><br>"
      ],
      "text/plain": [
       "/home/cryptane/SIH/Final/Receiver.ipynb"
      ]
     },
     "metadata": {},
     "output_type": "display_data"
    }
   ],
   "source": [
    "from IPython.display import display, FileLink\n",
    "sender = FileLink(\"Sender.ipynb\", result_html_prefix=\"<H1>Sender application</H1>\")\n",
    "display(sender)\n",
    "sender = FileLink(\"Receiver.ipynb\", result_html_prefix=\"<H1>Receiver application</H1>\")\n",
    "display(sender)\n"
   ]
  }
 ],
 "metadata": {
  "kernelspec": {
   "display_name": "Python 3",
   "language": "python",
   "name": "python3"
  },
  "language_info": {
   "codemirror_mode": {
    "name": "ipython",
    "version": 3
   },
   "file_extension": ".py",
   "mimetype": "text/x-python",
   "name": "python",
   "nbconvert_exporter": "python",
   "pygments_lexer": "ipython3",
   "version": "3.6.9"
  }
 },
 "nbformat": 4,
 "nbformat_minor": 5
}
